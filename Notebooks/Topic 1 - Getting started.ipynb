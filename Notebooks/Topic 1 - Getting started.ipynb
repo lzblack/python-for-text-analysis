{
 "cells": [
  {
   "cell_type": "markdown",
   "metadata": {
    "slideshow": {
     "slide_type": "slide"
    }
   },
   "source": [
    "# Python for text analysis: Topic 1\n",
    "\n",
    "Welcome to the course! You are now in the Jupyter Notebook environment, running the notebook for Topic 1.\n",
    "Notebooks are pretty straightforward. Some tips:\n",
    "\n",
    "* Cells in a notebook contain code or text. If you run a cell, it will either run the code or render the text.\n",
    "* There are five ways to run a cell:\n",
    "    1. Click the 'play' button next to the 'stop' and 'refresh' button in the toolbar.\n",
    "    2. Alt + Enter runs the current cell and creates a new cell.\n",
    "    3. Ctrl + Enter runs the current cell without creating a new cell. (Cmd + Enter on a Mac.)\n",
    "    4. Shift + Enter runs the current cell and moves to the next one.\n",
    "    5. Use the menu and select Cell/Run all.\n",
    "* The instructions are written in Markdown. [Here](https://github.com/adam-p/markdown-here/wiki/Markdown-Cheatsheet) is a nice Markdown cheatsheet if you want to write some more.\n",
    "* Explore the menus for more options! You can even create a presentation using Notebooks.\n",
    "\n",
    "Hint when you're writing Python code: press Tab to auto-complete your variable names!\n",
    "\n",
    "**At the end of this week, you will be able to:**\n",
    "\n",
    "- Assign values to variables.\n",
    "- Find and use object methods.\n",
    "- Use different built-in classes, such as *strings* and *lists*.\n",
    "- Use Python's *slicing* and *indexing* notation.\n",
    "\n",
    "**We'll also touch upon:**\n",
    "\n",
    "- Normalization: making sure that a text is suitable for further processing.\n",
    "- Tokenization: splitting up a text into sentences and words.\n",
    "\n",
    "We'll cover these in more detail later on in the course, but there are some links to the literature if you're already keen to explore these topics.\n",
    "\n",
    "**Notes**\n",
    "\n",
    "You'll find that this week is a bit theoretical. That's because we need to agree on a common vocabulary, before we can move on to more practical matters. It might be a bit overwhelming at first, but you'll get used to it pretty quickly!\n",
    "\n",
    "There are no prerequisites for this week. That means that if you do find something you don't understand, it's our fault. Please contact us, and we'll help you out!\n",
    "\n",
    "**If you want to learn more about these topics, you might find the following links useful:**\n",
    "\n",
    "- Documentation: [The Python 3 documentation](https://docs.python.org/3/)\n",
    "- Glossary: [Glossary](https://docs.python.org/3/glossary.html)\n",
    "- Free e-book: [How to think like a computer scientist](http://www.openbookproject.net/thinkcs/python/english3e/)\n",
    "- Free e-book: [A Byte of Python](https://python.swaroopch.com/)\n",
    "- Useful tool: [Pythontutor](http://www.pythontutor.com/) -- Shows you line-by-line what your code does\n",
    "- Community: [Learnpython](https://www.reddit.com/r/learnpython/) -- Reddit community for learners of Python\n",
    "- Video: [Python names and values](http://nedbatchelder.com/text/names1.html) -- Note: this might be a bit too technical at this stage\n",
    "- Reading: Chapter 1 of the Python-chapters in this repository."
   ]
  },
  {
   "cell_type": "markdown",
   "metadata": {
    "collapsed": true,
    "slideshow": {
     "slide_type": "slide"
    }
   },
   "source": [
    "## Getting started together\n",
    "\n",
    "This notebook provides you with an overview of the basics of Python. You don't need to remember everything, we just want to give you a sense of what's available in the language. Also recall the 15 minute rule: if you're stuck for longer than 15 minutes, contact us and we'll help you. (In class, of course, you can ask us immediately.)\n",
    "\n",
    "Let's first start with something really simple. Every programming language is traditionally introduced with a \"Hello world\" example. Please run the following cell."
   ]
  },
  {
   "cell_type": "code",
   "execution_count": 1,
   "metadata": {
    "collapsed": false
   },
   "outputs": [
    {
     "name": "stdout",
     "output_type": "stream",
     "text": [
      "Hello, world!\n"
     ]
    }
   ],
   "source": [
    "print(\"Hello, world!\")"
   ]
  },
  {
   "cell_type": "markdown",
   "metadata": {},
   "source": [
    "What happened here? Well, Python has a large set of built-in functions, and `print()` is one of them. When you use this function, `print()` outputs its *argument* to the screen. 'Argument' is a fancy word for \"object you put in a function\". In this case, the argument is the string \"Hello, world!\". And 'string' just means \"a sequence of characters\".\n",
    "\n",
    "Instead of providing the string directly as an argument to the print function, we can also create a variable that refers to the string value \"Hello, world!\". When you pass this variable to the print function, you get the same result as before:"
   ]
  },
  {
   "cell_type": "code",
   "execution_count": 4,
   "metadata": {
    "collapsed": false
   },
   "outputs": [
    {
     "name": "stdout",
     "output_type": "stream",
     "text": [
      "Hello, world!\n"
     ]
    }
   ],
   "source": [
    "text = \"Hello, world!\"\n",
    "print(text)"
   ]
  },
  {
   "cell_type": "code",
   "execution_count": null,
   "metadata": {
    "collapsed": true
   },
   "outputs": [],
   "source": []
  },
  {
   "cell_type": "markdown",
   "metadata": {},
   "source": [
    "Note that the variable name `text` is not part of Python. You could use any name you like, and the example would still work. Even if you change the name `text` to something silly like `pikachu` or `sniffles`. But it's standard practice to use clear variable names, so that your scripts will remain understandable (especially when they grow larger).\n",
    "\n",
    "Variables are nice because you can re-use them as many times as you want:"
   ]
  },
  {
   "cell_type": "code",
   "execution_count": null,
   "metadata": {
    "collapsed": false
   },
   "outputs": [],
   "source": [
    "# Let's print the variable again!\n",
    "print(text)"
   ]
  },
  {
   "cell_type": "markdown",
   "metadata": {},
   "source": [
    "Since it's kind of boring to always use the same string, we'll make use of another built-in function: `input()`. This takes user input and returns it as a string. Try it below:"
   ]
  },
  {
   "cell_type": "code",
   "execution_count": null,
   "metadata": {
    "collapsed": false,
    "nbpresent": {
     "id": "a984930a-be23-4ea2-a87d-73dfdf9e17ca"
    }
   },
   "outputs": [],
   "source": [
    "text = input('Please enter some text.') # If this doesn't work, you may have Python 2 installed.\n",
    "print(text)                             # Please install Python 3, or you'll be unable to use these notebooks."
   ]
  },
  {
   "cell_type": "markdown",
   "metadata": {},
   "source": [
    "Please note that this *overwrites* the original value that `text` was referring to!\n",
    "\n",
    "Until we learn how to use functions and files, we will use the following setup to explore python:\n",
    "\n",
    "1. We assign some input value to a variable,\n",
    "2. do something with that value,\n",
    "3. and print the result."
   ]
  },
  {
   "cell_type": "markdown",
   "metadata": {},
   "source": [
    "The `print` function is nice because you can use it to see what's going on behind the scenes:"
   ]
  },
  {
   "cell_type": "code",
   "execution_count": null,
   "metadata": {
    "collapsed": true
   },
   "outputs": [],
   "source": [
    "# Change the text\n",
    "text = \"I like apples\"\n",
    "\n",
    "# Print the text\n",
    "print(text)\n",
    "\n",
    "# Change the text\n",
    "text = \"I like oranges\"\n",
    "\n",
    "# And print it again\n",
    "print(text)"
   ]
  },
  {
   "cell_type": "markdown",
   "metadata": {},
   "source": [
    "And it's very flexible in that it can print as many things as you want at the same time, on one line. Just separate each of the things you want to print with a comma."
   ]
  },
  {
   "cell_type": "code",
   "execution_count": null,
   "metadata": {
    "collapsed": true
   },
   "outputs": [],
   "source": [
    "# Make the variable 'number' refer to the number 5.\n",
    "number = 5\n",
    "\n",
    "# Print a string and the value of number.\n",
    "print(\"Here's the value of 'number':\", number)"
   ]
  },
  {
   "cell_type": "markdown",
   "metadata": {},
   "source": [
    "## Objects\n",
    "\n",
    "Python is an object-oriented programming language. This means that it treats every piece of data like some kind of object that can be manipulated and passed around. Python has the following basic *types* of objects:\n",
    "\n",
    "* **String**: for representing text.\n",
    "* **Integer**: for representing whole numbers.\n",
    "* **Float**: for representing numbers with decimals.\n",
    "* **Tuple**: for representing immutable combinations of values.\n",
    "* **List**: for representing ordered sequences of objects.\n",
    "* **Set**: for representing unordered sets of objects.\n",
    "* **Dictionary**: to represent mappings between objects.\n",
    "* ..and **functions**: to manipulate objects, or to produce new objects given some input.\n",
    "\n",
    "You can also read about the types in Python in the documentation [here](https://docs.python.org/3/library/stdtypes.html). Basically, what you need to know now is that each type has particular *affordances*, or associated things that you can do with them. When something is of a numeric type (integer, float), the Python interpreter knows that you can perform mathematical operations with that object. You cannot use those operations with strings, because it doesn't make sense to take the square root of the string \"Hello, world!\".\n",
    "\n",
    "It's the same with vehicles and food in real life. Anything that is of the type *vehicle* can be used to get around and possibly transport goods. But you cannot eat a vehicle. Anything that is of the type *food* is edible, but it's pretty difficult to use food for transportation. (Try biking home on a carrot.)\n",
    "\n",
    "Here's an example of each type:"
   ]
  },
  {
   "cell_type": "code",
   "execution_count": null,
   "metadata": {
    "collapsed": true
   },
   "outputs": [],
   "source": [
    "a_string       = 'test'\n",
    "an_integer     = 4\n",
    "a_float        = 3.14\n",
    "a_tuple        = (2,5)\n",
    "a_list         = [1,2,3,1,2,3,'a','b','c']\n",
    "a_set          = {1,2,3,4,'apple'}\n",
    "a_dict         = {'milk':2, 'cheese':1, 'pickles':45}\n",
    "a_function     = print"
   ]
  },
  {
   "cell_type": "markdown",
   "metadata": {},
   "source": [
    "We can use the `type` function to check object types. Let's use it for a selection of our newly defined objects:"
   ]
  },
  {
   "cell_type": "code",
   "execution_count": null,
   "metadata": {
    "collapsed": false
   },
   "outputs": [],
   "source": [
    "type(a_function)"
   ]
  },
  {
   "cell_type": "code",
   "execution_count": null,
   "metadata": {
    "collapsed": false
   },
   "outputs": [],
   "source": [
    "type(an_integer)"
   ]
  },
  {
   "cell_type": "code",
   "execution_count": null,
   "metadata": {
    "collapsed": false
   },
   "outputs": [],
   "source": [
    "type(a_string)"
   ]
  },
  {
   "cell_type": "markdown",
   "metadata": {},
   "source": [
    "### Strings\n",
    "\n",
    "We'll now take a look at the different object types in Python, starting with strings. Let's define a few of them:"
   ]
  },
  {
   "cell_type": "code",
   "execution_count": null,
   "metadata": {
    "collapsed": true
   },
   "outputs": [],
   "source": [
    "# Here are some strings:\n",
    "string_1 = 'Hello, world!'\n",
    "string_2 = 'I ❤️ cheese'      # If you are using Python 2, your computer will not like this.\n",
    "string_3 = '1,2,3,4,5,6,7,8,9'\n",
    "# Strings that span multiple lines must start and finish with three single or double quotes.\n",
    "string_4 = \"\"\"This string covers\n",
    "multiple lines!\"\"\"\n",
    "# You can also use double quotes:\n",
    "string_5 = \"This one\\n does too!\""
   ]
  },
  {
   "cell_type": "markdown",
   "metadata": {},
   "source": [
    "Strings can contain any character you can think of, including emoji! The cell above also shows different ways to enter a string in Python: using single/double quotes, or three single/double quotes. In addition, the 5th string also shows a hidden character. Here is what that line looks like when you print it:"
   ]
  },
  {
   "cell_type": "code",
   "execution_count": null,
   "metadata": {
    "collapsed": false
   },
   "outputs": [],
   "source": [
    "print(string_5)"
   ]
  },
  {
   "cell_type": "markdown",
   "metadata": {},
   "source": [
    "`\\n` stands for 'new line', and produces a line break. Another common hidden character is `\\t`, which produces a tab."
   ]
  },
  {
   "cell_type": "markdown",
   "metadata": {},
   "source": [
    "Let's explore some properties of strings.\n",
    "\n",
    "\n",
    "**Strings are sequences of characters**\n",
    "\n",
    "Python provides very useful functions to work with sequences. Since strings are represented as sequences of characters, these functions work for strings as well. Important for now are:\n",
    "\n",
    "* Length\n",
    "* Containment\n",
    "* Indexing\n",
    "* Looping\n",
    "\n",
    "**Length**: Python has a built-in function called `len()` that lets you compute the length of a sequence. It works like this:"
   ]
  },
  {
   "cell_type": "code",
   "execution_count": null,
   "metadata": {
    "collapsed": false
   },
   "outputs": [],
   "source": [
    "number_of_characters = len(string_1)\n",
    "print(number_of_characters) # Note that spaces count as characters too!"
   ]
  },
  {
   "cell_type": "markdown",
   "metadata": {},
   "source": [
    "What happened above is that the `len`-function was called with `string_1` as its argument. The Python interpreter then counted all characters in `string_1` and *returned* the result. (Programmers say 'return' to mean the function produces some kind of result.) This result (the number of characters) got assigned to the variable `number_of_characters`, which gets printed by `print` (a function that doesn't return anything, but rather *displays* its argument on the screen)."
   ]
  },
  {
   "cell_type": "markdown",
   "metadata": {},
   "source": [
    "**Containment**: The Python keyword `in` allows you to check whether a string contains a particular substring. It returns `True` if the string contains the relevant substring, and `False` if it doesn't. These two values (`True` and `False`) are called *boolean values*, or *booleans* for short. We'll talk about them in more detail later. Here are some examples to try:"
   ]
  },
  {
   "cell_type": "code",
   "execution_count": null,
   "metadata": {
    "collapsed": false
   },
   "outputs": [],
   "source": [
    "\"fun\" in \"function\""
   ]
  },
  {
   "cell_type": "code",
   "execution_count": null,
   "metadata": {
    "collapsed": false
   },
   "outputs": [],
   "source": [
    "\"I\" in \"Team\""
   ]
  },
  {
   "cell_type": "code",
   "execution_count": null,
   "metadata": {
    "collapsed": false
   },
   "outputs": [],
   "source": [
    "\"App\" in \"apple\" # Capitals are not the same as lowercase characters!"
   ]
  },
  {
   "cell_type": "markdown",
   "metadata": {},
   "source": [
    "**Indexing**: Python provides access to the characters in each string through indexing. The table below shows all indexes for the string \"Sandwiches are yummy\". \n",
    "\n",
    "| Positive index | 0 | 1 | 2 | 3 | 4 | 5 | 6 | 7 | 8 | 9 | 10 | 11 | 12 | 13 | 14 | 15 | 16 | 17 | 18 | 19 |\n",
    "|----------------|---|---|---|---|---|---|---|---|---|---|----|----|----|----|----|----|----|----|----|----|\n",
    "| Characters     | S | a | n | d | w | i | c | h | e | s |    | a  |  r | e  |    |  y |  u |  m |  m |  y |\n",
    "| Negative index |-20|-19|-18|-17|-16|-15|-14|-13|-12|-11|-10|-9|-8|-7|-6|-5|-4|-3|-2|-1|\n",
    "\n",
    "You can access the letters of string using the following notation:\n",
    "\n",
    "```python\n",
    "my_string = \"Sandwiches are yummy\"\n",
    "print(my_string[1])   # This will print 'a'.\n",
    "print(my_string[1:4]) # This will print 'and'\n",
    "print(my_string[1:4:1]) # This will also print 'and', but is more explicit about what's happening.\n",
    "print(my_string[-1]) # This will print 'y'\n",
    "```\n",
    "\n",
    "So how does this notation work?\n",
    "\n",
    "```python\n",
    "my_string[i] # Get the character at index i.\n",
    "my_string[start:end] # Get the substring starting at 'start' and ending *before* 'end'.\n",
    "my_string[start:end:stepsize] # Get all characters starting from 'start', ending before 'end', \n",
    "                              # with a specific step size.\n",
    "```\n",
    "\n",
    "You can also leave parts out:\n",
    "\n",
    "```python\n",
    "my_string[:i] # Get the substring starting at index 0 and ending just before i.\n",
    "my_string[i:] # Get the substring starting at i and running all the way to the end.\n",
    "my_string[::i] # Get a string going from start to end with step size i.\n",
    "```\n",
    "\n",
    "You can also have negative step size. `my_string[::-1]` is the idiomatic way to reverse a string.\n",
    "\n",
    "Let's have a small test. Do you know what the following statements will print?"
   ]
  },
  {
   "cell_type": "code",
   "execution_count": null,
   "metadata": {
    "collapsed": false
   },
   "outputs": [],
   "source": [
    "my_string = \"Sandwiches are yummy\"\n",
    "print(my_string[0])"
   ]
  },
  {
   "cell_type": "code",
   "execution_count": null,
   "metadata": {
    "collapsed": false
   },
   "outputs": [],
   "source": [
    "print(my_string[11:14])"
   ]
  },
  {
   "cell_type": "code",
   "execution_count": null,
   "metadata": {
    "collapsed": false
   },
   "outputs": [],
   "source": [
    "print(my_string[15:])"
   ]
  },
  {
   "cell_type": "code",
   "execution_count": null,
   "metadata": {
    "collapsed": false
   },
   "outputs": [],
   "source": [
    "print(my_string[:9])"
   ]
  },
  {
   "cell_type": "code",
   "execution_count": null,
   "metadata": {
    "collapsed": false,
    "scrolled": true
   },
   "outputs": [],
   "source": [
    "print('cow'[::2])"
   ]
  },
  {
   "cell_type": "markdown",
   "metadata": {},
   "source": [
    "**Iterating**: we'll cover this in much more detail later on, but all sequences are *iterable*, which means you can loop over them. In other words, you can do something like this:"
   ]
  },
  {
   "cell_type": "code",
   "execution_count": null,
   "metadata": {
    "collapsed": false
   },
   "outputs": [],
   "source": [
    "for char in \"word\": # For every character in the string \"word\"..\n",
    "    print(char)     # Print that character."
   ]
  },
  {
   "cell_type": "markdown",
   "metadata": {},
   "source": [
    "That is: \n",
    "\n",
    "1. Take all the elements (in this case: characters) in the sequence, \n",
    "2. assign them one-by-one to a variable (in this case: `char`, but you can use any name), \n",
    "3. do something with that variable (in this case: print it), \n",
    "4. move to the next element and go to (2.) until there are no more elements left.\n",
    "\n",
    "and there are some other things you can do, like:"
   ]
  },
  {
   "cell_type": "code",
   "execution_count": null,
   "metadata": {
    "collapsed": false
   },
   "outputs": [],
   "source": [
    "for char in reversed(\"word\"): # For every character in the string \"word\" (but then reversed)..\n",
    "    print(char)               # Print that character."
   ]
  },
  {
   "cell_type": "code",
   "execution_count": null,
   "metadata": {
    "collapsed": false
   },
   "outputs": [],
   "source": [
    "for char in sorted(\"word\"): # For every character in the string \"word\" (but then sorted)..\n",
    "    print(char)             # Print that character."
   ]
  },
  {
   "cell_type": "markdown",
   "metadata": {
    "collapsed": true
   },
   "source": [
    "**Strings have useful methods**\n",
    "\n",
    "A method is a function that is associated with an object. For example, the string-method `lower()` turns a string into all lowercase characters, and `upper()` makes strings uppercase. You can call this method using the dot-notation:"
   ]
  },
  {
   "cell_type": "code",
   "execution_count": null,
   "metadata": {
    "collapsed": false
   },
   "outputs": [],
   "source": [
    "print(string_1)         # The original string.\n",
    "print(string_1.lower()) # Lowercased.\n",
    "print(string_1.upper()) # Uppercased."
   ]
  },
  {
   "cell_type": "markdown",
   "metadata": {},
   "source": [
    "So how do you find out what kind of methods an object has? There are two options:\n",
    "\n",
    "1. Read the documentation. See [here](https://docs.python.org/3.5/library/stdtypes.html#string-methods) for the string methods.\n",
    "2. Use the `dir()`-function, which returns a list of method names (as well as attributes of the object). If you want to know what a specific method does, use the `help()`-function.\n",
    "\n",
    "Run the code below to see what the output of `dir()` looks like. \n",
    "\n",
    "The method names that start and end with double underscores ('dunder methods') are Python-internal. They are what makes general methods like `len` work (`len` internally calls the `string.__len__()` function), and cause Python to know what to do when you, for example, use a for-loop with a string.\n",
    "\n",
    "The other method names indicate common and useful methods. "
   ]
  },
  {
   "cell_type": "code",
   "execution_count": null,
   "metadata": {
    "collapsed": false
   },
   "outputs": [],
   "source": [
    "# Run this cell to see all methods for string_1\n",
    "dir(string_1)"
   ]
  },
  {
   "cell_type": "markdown",
   "metadata": {},
   "source": [
    "If you'd like to know what one of these methods does, you can just use `help` (or look it up online):"
   ]
  },
  {
   "cell_type": "code",
   "execution_count": null,
   "metadata": {
    "collapsed": false
   },
   "outputs": [],
   "source": [
    "help(string_1.upper)"
   ]
  },
  {
   "cell_type": "code",
   "execution_count": null,
   "metadata": {
    "collapsed": false
   },
   "outputs": [],
   "source": [
    "help(string_1.split)"
   ]
  },
  {
   "cell_type": "markdown",
   "metadata": {},
   "source": [
    "It's important to note that methods only *return* the result. They do not change the string itself."
   ]
  },
  {
   "cell_type": "code",
   "execution_count": null,
   "metadata": {
    "collapsed": false
   },
   "outputs": [],
   "source": [
    "x = 'test'    # Defining x.\n",
    "y = x.upper() # Using x.upper(), calling the result y.\n",
    "print(y)      # Print y.\n",
    "print(x)      # Print x. It is unchanged."
   ]
  },
  {
   "cell_type": "markdown",
   "metadata": {},
   "source": [
    "### Lists\n",
    "\n",
    "Lists are very useful to store an ordered set of objects. You can define a list like this:"
   ]
  },
  {
   "cell_type": "code",
   "execution_count": null,
   "metadata": {
    "collapsed": true
   },
   "outputs": [],
   "source": [
    "my_list = [1,2,3,'a','b','c']"
   ]
  },
  {
   "cell_type": "markdown",
   "metadata": {},
   "source": [
    "And lists share many properties with strings. **Check**: can you guess what the following cells will print?"
   ]
  },
  {
   "cell_type": "code",
   "execution_count": null,
   "metadata": {
    "collapsed": false
   },
   "outputs": [],
   "source": [
    "# Length:\n",
    "print(len(my_list))"
   ]
  },
  {
   "cell_type": "code",
   "execution_count": null,
   "metadata": {
    "collapsed": false
   },
   "outputs": [],
   "source": [
    "# Containment:\n",
    "print(2 in my_list)\n",
    "print(4 in my_list)"
   ]
  },
  {
   "cell_type": "code",
   "execution_count": null,
   "metadata": {
    "collapsed": false
   },
   "outputs": [],
   "source": [
    "# Indexing:\n",
    "print(my_list[2])"
   ]
  },
  {
   "cell_type": "code",
   "execution_count": null,
   "metadata": {
    "collapsed": false
   },
   "outputs": [],
   "source": [
    "# Iterating:\n",
    "print(\"Let's loop over the list!\")\n",
    "for item in my_list:\n",
    "    print(item)"
   ]
  },
  {
   "cell_type": "markdown",
   "metadata": {},
   "source": [
    "#### List methods\n",
    "\n",
    "Lists also have several useful methods. The three most commonly used methods are `append, count`, and `extend`. Here is how they work."
   ]
  },
  {
   "cell_type": "code",
   "execution_count": null,
   "metadata": {
    "collapsed": false
   },
   "outputs": [],
   "source": [
    "my_list = []\n",
    "# Add the number 1 to the list.\n",
    "my_list.append(1)\n",
    "print(my_list)"
   ]
  },
  {
   "cell_type": "code",
   "execution_count": null,
   "metadata": {
    "collapsed": false
   },
   "outputs": [],
   "source": [
    "second_list = [2,3,4]\n",
    "# Extend my_list with the items in the second list.\n",
    "my_list.extend(second_list)\n",
    "print(my_list)"
   ]
  },
  {
   "cell_type": "code",
   "execution_count": null,
   "metadata": {
    "collapsed": true
   },
   "outputs": [],
   "source": [
    "# Count the number of times 'a' occurs in the list.\n",
    "my_words = ['a', 'dog', 'and', 'a', 'panda']\n",
    "my_words.count('a')"
   ]
  },
  {
   "cell_type": "markdown",
   "metadata": {},
   "source": [
    "**Multiple assignment**\n",
    "\n",
    "All sequences support multiple assignment, which means that you can do stuff like this:"
   ]
  },
  {
   "cell_type": "code",
   "execution_count": null,
   "metadata": {
    "collapsed": false
   },
   "outputs": [],
   "source": [
    "# Number of variables is equal to the number of items in the list.\n",
    "word_1, word_2 = ['apple', 'pie']\n",
    "print(word_1)\n",
    "print(word_2)"
   ]
  },
  {
   "cell_type": "code",
   "execution_count": null,
   "metadata": {
    "collapsed": false
   },
   "outputs": [],
   "source": [
    "# Number of items in the list is bigger than the number of variables.\n",
    "first_word, *rest = ['apple','pie','is','delicious']\n",
    "print(first_word)\n",
    "print(rest)"
   ]
  },
  {
   "cell_type": "markdown",
   "metadata": {},
   "source": [
    "You can do this with any number of variables, as long as that number is smaller than the number of items in the list."
   ]
  },
  {
   "cell_type": "markdown",
   "metadata": {},
   "source": [
    "### Lists ❤️ strings (and vice versa)\n",
    "\n",
    "Lists and strings are best friends. During this course, you will find yourself moving between strings and lists quite often.\n",
    "\n",
    "One of the first steps in any Natural Language Processing task is usually to *tokenize* the text you are working with. Tokenization is the act of splitting text into separate *tokens* (words or punctuation). If you tokenize a sentence, you are basically turning a string into a list of strings.\n",
    "\n",
    "The most naive way to tokenize a sentence is to just use the `split()`-method that is built into Python:"
   ]
  },
  {
   "cell_type": "code",
   "execution_count": null,
   "metadata": {
    "collapsed": false
   },
   "outputs": [],
   "source": [
    "sentence = \"I like tokenization\"\n",
    "tokens = sentence.split()\n",
    "print(tokens)"
   ]
  },
  {
   "cell_type": "markdown",
   "metadata": {},
   "source": [
    "This works very well for short bits of text. It's useful to represent texts like this because we can start computing statistics about them. E.g. how many times each word occurs in the text:"
   ]
  },
  {
   "cell_type": "code",
   "execution_count": null,
   "metadata": {
    "collapsed": false
   },
   "outputs": [],
   "source": [
    "for token in tokens:\n",
    "    print(token,'\\t',tokens.count(token))"
   ]
  },
  {
   "cell_type": "markdown",
   "metadata": {},
   "source": [
    "This is nice because we now know what the actual words in the text are. Let's illustrate the difference between strings and lists with a small example."
   ]
  },
  {
   "cell_type": "code",
   "execution_count": null,
   "metadata": {
    "collapsed": false
   },
   "outputs": [],
   "source": [
    "# How many times does the sequence 'token' occur in the sentence?\n",
    "print(sentence.count('token'))\n",
    "# How many times does the string 'token' occur in the list of tokens?\n",
    "print(tokens.count('token'))"
   ]
  },
  {
   "cell_type": "markdown",
   "metadata": {},
   "source": [
    "You can turn a list of tokens back into a string by using the `join()`-method."
   ]
  },
  {
   "cell_type": "code",
   "execution_count": null,
   "metadata": {
    "collapsed": false
   },
   "outputs": [],
   "source": [
    "# Use a space to join the tokens.\n",
    "joined_tokens = ' '.join(tokens)\n",
    "print(joined_tokens)"
   ]
  },
  {
   "cell_type": "markdown",
   "metadata": {},
   "source": [
    "This method joins the list with whatever string precedes it. So we could also do this:"
   ]
  },
  {
   "cell_type": "code",
   "execution_count": null,
   "metadata": {
    "collapsed": true
   },
   "outputs": [],
   "source": [
    "print('hamster'.join(tokens))"
   ]
  },
  {
   "cell_type": "markdown",
   "metadata": {},
   "source": [
    "The split-method doesn't work too well for longer pieces of text. Let's take the Wikipedia definition for \"Language\" and try to tokenize it:"
   ]
  },
  {
   "cell_type": "code",
   "execution_count": null,
   "metadata": {
    "collapsed": false
   },
   "outputs": [],
   "source": [
    "language = \"Language is the ability to acquire and use complex systems of communication, particularly the human ability to do so, and a language is any specific example of such a system. The scientific study of language is called linguistics.\"\n",
    "tokens = language.split()\n",
    "print(tokens)"
   ]
  },
  {
   "cell_type": "markdown",
   "metadata": {},
   "source": [
    "How many times does the word 'communication' occur in the text?"
   ]
  },
  {
   "cell_type": "code",
   "execution_count": null,
   "metadata": {
    "collapsed": false
   },
   "outputs": [],
   "source": [
    "# How many times does the sequence 'communication' occur in the sentence?\n",
    "print(language.count('communication'))\n",
    "# How many times does the string 'communication' occur in the list of tokens?\n",
    "print(tokens.count('communication'))"
   ]
  },
  {
   "cell_type": "markdown",
   "metadata": {
    "collapsed": true
   },
   "source": [
    "..whoops! The word 'communication' doesn't seem to be in the list of tokens! Why?\n",
    " \n",
    ".\n",
    " \n",
    ". \n",
    " \n",
    ".\n",
    "  \n",
    ".\n",
    " \n",
    ".\n",
    "\n",
    ".\n",
    "\n",
    ".\n",
    "\n",
    ".\n",
    "\n",
    ".\n",
    "\n",
    "Punctuation 😰 \n",
    "\n",
    "One way to combat this is to *preprocess* the data. Common preprocessing steps are:\n",
    "\n",
    "1. Casefolding/lowercasing: removes distinction between 'Language' and 'language'.\n",
    "2. Punctuation removal: removes distinction between 'communication,' and 'communication'.\n",
    "3. Stemming/Lemmatization: remove distinction between 'is' and 'was'.\n",
    "\n",
    "This is a destructive process: you lose some information that might be useful in further analysis. Later on we'll use specialized NLP modules/toolkits that keep all the information from the input. "
   ]
  },
  {
   "cell_type": "code",
   "execution_count": null,
   "metadata": {
    "collapsed": true
   },
   "outputs": [],
   "source": [
    "# Replace commas with 0-length strings. I.e. remove them.\n",
    "language_nocommas = language.replace(',','')\n",
    "print(language_nocommas)"
   ]
  },
  {
   "cell_type": "code",
   "execution_count": null,
   "metadata": {
    "collapsed": true
   },
   "outputs": [],
   "source": [
    "# Replace periods with 0-length strings. I.e. remove them.\n",
    "language_noperiods = language_nocommas.replace('.','')\n",
    "print(language_noperiods)"
   ]
  },
  {
   "cell_type": "code",
   "execution_count": null,
   "metadata": {
    "collapsed": true
   },
   "outputs": [],
   "source": [
    "# Lowercase the sentence:\n",
    "language_lowercased = language_noperiods.lower()\n",
    "print(language_lowercased)"
   ]
  },
  {
   "cell_type": "code",
   "execution_count": null,
   "metadata": {
    "collapsed": true
   },
   "outputs": [],
   "source": [
    "# Tokenize the text by splitting it:\n",
    "tokenized_normalized = language_lowercased.split()\n",
    "print(tokenized_normalized)"
   ]
  },
  {
   "cell_type": "markdown",
   "metadata": {},
   "source": [
    "**Reflection**: can you think of a non-destructive way to deal with commas and periods?\n",
    "\n",
    "When we look at the words in the text, they don't contain punctuation anymore, and it's much easier to count them."
   ]
  },
  {
   "cell_type": "code",
   "execution_count": null,
   "metadata": {
    "collapsed": false
   },
   "outputs": [],
   "source": [
    "# Here's the result:\n",
    "print(tokenized_normalized)"
   ]
  },
  {
   "cell_type": "markdown",
   "metadata": {},
   "source": [
    "### Further reading\n",
    "\n",
    "These papers discuss preprocessing and normalization. \n",
    "\n",
    "* [Assessing the Consequences of Text Preprocessing Decisions](http://papers.ssrn.com/sol3/papers.cfm?abstract_id=2849145) (Denny & Spirling 2016). This paper is a bit long, but it provides a nice discussion of common preprocessing steps and their potential effects.\n",
    "* [What to do about bad language on the internet](http://www.cc.gatech.edu/~jeisenst/papers/naacl2013-badlanguage.pdf) (Eisenstein 2013). This is a quick read that I recommend everyone to at least look through."
   ]
  },
  {
   "cell_type": "markdown",
   "metadata": {},
   "source": [
    "### Building a vocabulary\n",
    "\n",
    "So now we have a list of all the words in the document, that is very useful if you want to find out how many times words occur in the text. But what if we just want to have a vocabulary, containing all the words in the document? There are two things we can do here:\n",
    "\n",
    "1. Write a small algorithm.\n",
    "2. Use sets.\n",
    "\n",
    "Let's do both! Here is a small algorithm in Python:"
   ]
  },
  {
   "cell_type": "code",
   "execution_count": null,
   "metadata": {
    "collapsed": false
   },
   "outputs": [],
   "source": [
    "# This list will contain all the words in the text, just once.\n",
    "vocabulary = []\n",
    "# Loop over the words in the text. For each word..\n",
    "for word in tokenized_normalized:\n",
    "    # If the word is not yet in the vocabulary..\n",
    "    if word not in vocabulary:\n",
    "        # Add it.\n",
    "        vocabulary.append(word)\n",
    "\n",
    "# Print the results:\n",
    "print(vocabulary)"
   ]
  },
  {
   "cell_type": "markdown",
   "metadata": {},
   "source": [
    "But we can also just turn the tokenized sentence into a *set*. Sets are unordered collections of unique objects. Any duplicates are instantly removed. Below is an example showing how to turn lists into sets."
   ]
  },
  {
   "cell_type": "code",
   "execution_count": null,
   "metadata": {
    "collapsed": false
   },
   "outputs": [],
   "source": [
    "vocabulary = set(tokenized_normalized)\n",
    "print(vocabulary)"
   ]
  },
  {
   "cell_type": "markdown",
   "metadata": {},
   "source": [
    "If you wanted to, you could also do the reverse. Note that you don't get the duplicates back by doing this."
   ]
  },
  {
   "cell_type": "code",
   "execution_count": null,
   "metadata": {
    "collapsed": false
   },
   "outputs": [],
   "source": [
    "vocabulary = list(vocabulary)\n",
    "print(vocabulary)"
   ]
  },
  {
   "cell_type": "markdown",
   "metadata": {},
   "source": [
    "This form of explicit type conversion is sometimes called *type casting*. In later assignments, you will often find yourself converting between strings and integers."
   ]
  },
  {
   "cell_type": "markdown",
   "metadata": {},
   "source": [
    "### Sets\n",
    "\n",
    "Sets are unordered collections of unique objects. They might already be familar to you if you've ever had a course on logic, set theory, or formal semantics. Or perhaps you've seen one of these [venn diagrams](https://en.wikipedia.org/wiki/Venn_diagram):\n",
    "\n",
    "![venn diagram](./images/venn.png)\n",
    "\n",
    "This one, from Wikipedia, shows the \"uppercase letter glyphs [that] are shared by the Greek, Latin and Russian alphabets.\" The parts of the circles that overlap are called *intersections*. The parts that don't overlap constitute the *difference* between the circles. If two circles don't intersect at all, we say that they are *disjoint*."
   ]
  },
  {
   "cell_type": "code",
   "execution_count": null,
   "metadata": {
    "collapsed": true
   },
   "outputs": [],
   "source": [
    "# Two ways to define a set:\n",
    "abc = {'a','b','c'}\n",
    "cde = set(['c','d','e'])"
   ]
  },
  {
   "cell_type": "code",
   "execution_count": null,
   "metadata": {
    "collapsed": false
   },
   "outputs": [],
   "source": [
    "# Intersection of the two:\n",
    "intersection = abc & cde\n",
    "print(intersection)"
   ]
  },
  {
   "cell_type": "code",
   "execution_count": null,
   "metadata": {
    "collapsed": false
   },
   "outputs": [],
   "source": [
    "# differences:\n",
    "print(abc - cde)\n",
    "print(cde - abc)"
   ]
  },
  {
   "cell_type": "code",
   "execution_count": null,
   "metadata": {
    "collapsed": false
   },
   "outputs": [],
   "source": [
    "# Everything together\n",
    "union = abc | cde\n",
    "print(union)"
   ]
  },
  {
   "cell_type": "code",
   "execution_count": null,
   "metadata": {
    "collapsed": true
   },
   "outputs": [],
   "source": [
    "# Alternatively:\n",
    "intersection = abc.intersection(cde)\n",
    "difference = abc.difference(cde)\n",
    "union = abc.union(cde)\n",
    "\n",
    "print(intersection)\n",
    "print(difference)\n",
    "print(union)"
   ]
  },
  {
   "cell_type": "markdown",
   "metadata": {},
   "source": [
    "**Finding text-specific words**\n",
    "\n",
    "Now that we know all this, we can write a bit of code to see for two pieces of text which words are text-specific. We'll do this by tokenizing both texts, and looking at the difference between the vocabularies of the texts. Later on in the course, we will take a more advanced approach by doing a frequency analysis of the words.\n",
    "\n",
    "To make our lives a bit easier, we will define a function that tokenizes the texts for us. The tokenization code is just copied from the section on lists. The code is wrapped in a function called `tokenize_text` so that we don't have to write almost the same code twice. Rather, we give the whole procedure a name (`tokenize_text`) and then use that name to execute the code for the relevant text.\n",
    "\n",
    "You don't have to understand how functions work just yet. We'll start practicing with functions next week. This is just a little preview!"
   ]
  },
  {
   "cell_type": "code",
   "execution_count": null,
   "metadata": {
    "collapsed": true
   },
   "outputs": [],
   "source": [
    "# This is a function that takes one argument: a text-string.*\n",
    "# That variable can have any name, but within the function it will be referred to as 'text'.\n",
    "def tokenize_text(text):\n",
    "    \"\"\"\n",
    "    Function that takes some text as its input, and tokenizes it \n",
    "    such that the result is a list of lowercase words.\n",
    "    \"\"\"\n",
    "    # Replace commas with 0-length strings. I.e. remove them.\n",
    "    text_nocommas = text.replace(',','')\n",
    "\n",
    "    # Replace periods with 0-length strings. I.e. remove them.\n",
    "    text_noperiods = text_nocommas.replace('.','')\n",
    "\n",
    "    # Lowercase the sentence:\n",
    "    text_lowercased = text_noperiods.lower()\n",
    "\n",
    "    # Tokenize the text by splitting it:\n",
    "    tokenized_normalized = text_lowercased.split()\n",
    "\n",
    "    # Return the result, so that we can keep using it outside the function.\n",
    "    # If you forget this statement, the function will give 'None' back as a result.\n",
    "    return tokenized_normalized\n",
    "\n",
    "# * In Python, people leave the type of the function argument implicit, but if you enter anything\n",
    "# other than a string, the function will give an error."
   ]
  },
  {
   "cell_type": "markdown",
   "metadata": {
    "collapsed": true
   },
   "source": [
    "Before we do anything else, let's make sure that we understand what this specific function does. "
   ]
  },
  {
   "cell_type": "code",
   "execution_count": null,
   "metadata": {
    "collapsed": false
   },
   "outputs": [],
   "source": [
    "language_text = \"Language is the ability to acquire and use complex systems of communication, particularly the human ability to do so, and a language is any specific example of such a system. The scientific study of language is called linguistics.\"\n",
    "\n",
    "tokenized_language_text = tokenize_text(language_text)\n",
    "print(tokenized_language_text)"
   ]
  },
  {
   "cell_type": "markdown",
   "metadata": {
    "collapsed": true
   },
   "source": [
    "OK, it does the same thing as before. Let's call the same function again on a different piece of text (thanks, Wikipedia!)."
   ]
  },
  {
   "cell_type": "code",
   "execution_count": null,
   "metadata": {
    "collapsed": false
   },
   "outputs": [],
   "source": [
    "numeracy_text = \"Numeracy is the ability to reason and to apply simple numerical concepts.[1] Basic numeracy skills consist of comprehending fundamental arithmetics like addition, subtraction, multiplication, and division. For example, if one can understand simple mathematical equations such as, 2 + 2 = 4, then one would be considered possessing at least basic numeric knowledge. Substantial aspects of numeracy also include number sense, operation sense, computation, measurement, geometry, probability and statistics. A numerically literate person can manage and respond to the mathematical demands of life.[2]\"\n",
    "\n",
    "tokenized_numeracy_text = tokenize_text(numeracy_text)\n",
    "print(tokenized_numeracy_text)"
   ]
  },
  {
   "cell_type": "markdown",
   "metadata": {
    "collapsed": true
   },
   "source": [
    "Now what are the words that are specific to the language text?"
   ]
  },
  {
   "cell_type": "code",
   "execution_count": null,
   "metadata": {
    "collapsed": true
   },
   "outputs": [],
   "source": [
    "# Let's turn the lists of tokens into sets.\n",
    "LT = set(tokenized_language_text)\n",
    "NT = set(tokenized_numeracy_text)"
   ]
  },
  {
   "cell_type": "code",
   "execution_count": null,
   "metadata": {
    "collapsed": false
   },
   "outputs": [],
   "source": [
    "# CLASS TEST: what do we write here to see the language-specific words?\n"
   ]
  },
  {
   "cell_type": "code",
   "execution_count": null,
   "metadata": {
    "collapsed": false
   },
   "outputs": [],
   "source": [
    "# CLASS TEST: what do we write here to see the numeracy-specific words?\n"
   ]
  },
  {
   "cell_type": "markdown",
   "metadata": {},
   "source": [
    "**Reflection**: Is there anything surprising/unexpected about these words? How do you think we can fix this?\n",
    "(Hint: Think about the steps we took to preprocess the data.)"
   ]
  },
  {
   "cell_type": "code",
   "execution_count": null,
   "metadata": {
    "collapsed": true
   },
   "outputs": [],
   "source": [
    "# CLASS TEST: what do we write here to see the overlap?\n"
   ]
  },
  {
   "cell_type": "markdown",
   "metadata": {},
   "source": [
    "### Numbers\n",
    "\n",
    "We've postponed numbers for a while, but it's time to tackle them as well. Let's first start with [mathematical operators](https://docs.python.org/3.5/library/stdtypes.html#numeric-types-int-float-complex). These are defined for both **integers** and **floats** (numeric types):\n",
    "\n",
    "| Operation | Result |\n",
    "|-----------|--------|\n",
    "| `x + y` |\tsum of x and y|\n",
    "| `x - y` |\tdifference of x and y \t|  \t \n",
    "| `x * y` |\tproduct of x and y \t  \t |\n",
    "| `x / y` |\tquotient of x and y \t  \t |\n",
    "| `x // y` |\tfloored quotient of x and y\t |\n",
    "| `x % y` |\tremainder of x / y \t|\n",
    "| `-x` |\tx negated \t  \t |\n",
    "| `+x` |\tx unchanged \t  |\t \n",
    "| `x ** y` |\tx to the power y |\n",
    "\n",
    "Here's an example:"
   ]
  },
  {
   "cell_type": "code",
   "execution_count": null,
   "metadata": {
    "collapsed": false
   },
   "outputs": [],
   "source": [
    "# Prompt the user for two numbers:\n",
    "first_number = input('Please enter any number you like\\n')\n",
    "second_number = input('Please enter another number\\n')\n",
    "\n",
    "# Any input is automatically considered a string.\n",
    "# Let's change the type of the numbers to integer.\n",
    "first_number = int(first_number)\n",
    "second_number = int(second_number)\n",
    "\n",
    "# Compute the sum of the two numbers.\n",
    "total = first_number + second_number\n",
    "\n",
    "# And print the result.\n",
    "print(\"The sum of these numbers is\", total)"
   ]
  },
  {
   "cell_type": "markdown",
   "metadata": {},
   "source": [
    "**Question:** Can you predict what will the following cells will print?"
   ]
  },
  {
   "cell_type": "code",
   "execution_count": null,
   "metadata": {
    "collapsed": false
   },
   "outputs": [],
   "source": [
    "# difference: \n",
    "print(7-2)"
   ]
  },
  {
   "cell_type": "code",
   "execution_count": null,
   "metadata": {
    "collapsed": false
   },
   "outputs": [],
   "source": [
    "# quotient:\n",
    "print(7/2)"
   ]
  },
  {
   "cell_type": "code",
   "execution_count": null,
   "metadata": {
    "collapsed": false
   },
   "outputs": [],
   "source": [
    "# floored quotient:\n",
    "print(7//2)"
   ]
  },
  {
   "cell_type": "code",
   "execution_count": null,
   "metadata": {
    "collapsed": false
   },
   "outputs": [],
   "source": [
    "# remainder of dividing 7 by 2:\n",
    "print(7 % 2)"
   ]
  },
  {
   "cell_type": "markdown",
   "metadata": {},
   "source": [
    "Two of the number operators (`+` and `*`) also work for other types of objects. Can you predict what these do?"
   ]
  },
  {
   "cell_type": "code",
   "execution_count": null,
   "metadata": {
    "collapsed": true
   },
   "outputs": [],
   "source": [
    "# Addition with lists:\n",
    "[1] + [2]"
   ]
  },
  {
   "cell_type": "code",
   "execution_count": null,
   "metadata": {
    "collapsed": true
   },
   "outputs": [],
   "source": [
    "# Multiplication:\n",
    "[1] * 8"
   ]
  },
  {
   "cell_type": "code",
   "execution_count": null,
   "metadata": {
    "collapsed": true
   },
   "outputs": [],
   "source": [
    "# Combined:\n",
    "[1] * 4 + [2] * 4"
   ]
  },
  {
   "cell_type": "code",
   "execution_count": null,
   "metadata": {
    "collapsed": true
   },
   "outputs": [],
   "source": [
    "# Addition with strings:\n",
    "'a' + 'b'"
   ]
  },
  {
   "cell_type": "code",
   "execution_count": null,
   "metadata": {
    "collapsed": true
   },
   "outputs": [],
   "source": [
    "# Multiplication:\n",
    "'a' * 4"
   ]
  },
  {
   "cell_type": "code",
   "execution_count": null,
   "metadata": {
    "collapsed": true
   },
   "outputs": [],
   "source": [
    "# Combined:\n",
    "'a' * 4 + 'b' * 4"
   ]
  },
  {
   "cell_type": "markdown",
   "metadata": {},
   "source": [
    "#### Useful facts about numbers"
   ]
  },
  {
   "cell_type": "code",
   "execution_count": null,
   "metadata": {
    "collapsed": true
   },
   "outputs": [],
   "source": [
    "# These are equivalent (and the same holds for *, -, **):\n",
    "x = 4\n",
    "x = x + 4    # Repetition of x.\n",
    "print(x)\n",
    "\n",
    "x = 4\n",
    "x += 4       # No repetition of x.\n",
    "print(x)"
   ]
  },
  {
   "cell_type": "code",
   "execution_count": null,
   "metadata": {
    "collapsed": false
   },
   "outputs": [],
   "source": [
    "# If you divide a number, it might turn from an integer into a float!\n",
    "# This is known as implicit type conversion, or 'coercion'.\n",
    "x = 5\n",
    "print(type(x))\n",
    "x = x/2\n",
    "print(type(x))"
   ]
  },
  {
   "cell_type": "code",
   "execution_count": null,
   "metadata": {
    "collapsed": false
   },
   "outputs": [],
   "source": [
    "# You can use an integer as an index, but you cannot use a float.\n",
    "\n",
    "# Indexing with an integer:\n",
    "['a','b','c'][1]"
   ]
  },
  {
   "cell_type": "code",
   "execution_count": null,
   "metadata": {
    "collapsed": true
   },
   "outputs": [],
   "source": [
    "# Indexing with a float:\n",
    "['a','b','c'][1.5]"
   ]
  },
  {
   "cell_type": "code",
   "execution_count": null,
   "metadata": {
    "collapsed": false
   },
   "outputs": [],
   "source": [
    "# You cannot coerce an integer into a string:\n",
    "num_apples = 6*5\n",
    "x = 'I have ' + num_apples + 'apples.'"
   ]
  },
  {
   "cell_type": "code",
   "execution_count": null,
   "metadata": {
    "collapsed": true
   },
   "outputs": [],
   "source": [
    "# Instead, use str():\n",
    "x = 'I have ' + str(num_apples) + 'apples.'\n",
    "print(x)"
   ]
  },
  {
   "cell_type": "code",
   "execution_count": null,
   "metadata": {
    "collapsed": true
   },
   "outputs": [],
   "source": [
    "# If you want to do something five times, you can use a loop for that:\n",
    "for i in range(5):\n",
    "    print('repeat')"
   ]
  },
  {
   "cell_type": "markdown",
   "metadata": {},
   "source": [
    "### Dictionaries\n",
    "\n",
    "The dictionary is one of the most powerful classes in Python. You can use them to keep your data organized. They look like this:"
   ]
  },
  {
   "cell_type": "code",
   "execution_count": null,
   "metadata": {
    "collapsed": false
   },
   "outputs": [],
   "source": [
    "shopping_list = {'milk': 3, 'eggs': 6, 'spam': 327}\n",
    "print(shopping_list)"
   ]
  },
  {
   "cell_type": "markdown",
   "metadata": {},
   "source": [
    "This shopping list has three **keys**: *milk, eggs*, and *spam*. The integers are called *values* of the dictionary. You can also access these through the dictionary methods:"
   ]
  },
  {
   "cell_type": "code",
   "execution_count": null,
   "metadata": {
    "collapsed": false
   },
   "outputs": [],
   "source": [
    "shopping_list.keys()"
   ]
  },
  {
   "cell_type": "code",
   "execution_count": null,
   "metadata": {
    "collapsed": false
   },
   "outputs": [],
   "source": [
    "shopping_list.values()"
   ]
  },
  {
   "cell_type": "markdown",
   "metadata": {},
   "source": [
    "Together, the keys and values make up the *items* in a dictionary:"
   ]
  },
  {
   "cell_type": "code",
   "execution_count": null,
   "metadata": {
    "collapsed": false
   },
   "outputs": [],
   "source": [
    "shopping_list.items()"
   ]
  },
  {
   "cell_type": "markdown",
   "metadata": {},
   "source": [
    "The items are represented as *tuples* of keys and values. We won't discuss tuples in a lot of detail now; basically they are like lists, but they are *immutable*, meaning that their contents cannot be changed. This is a very useful property, as we will see later in the course."
   ]
  },
  {
   "cell_type": "code",
   "execution_count": null,
   "metadata": {
    "collapsed": false
   },
   "outputs": [],
   "source": [
    "# Get data from the dictionary:\n",
    "print(shopping_list['milk'])"
   ]
  },
  {
   "cell_type": "code",
   "execution_count": null,
   "metadata": {
    "collapsed": true
   },
   "outputs": [],
   "source": [
    "# Equivalent ways to initialize a dictionary:\n",
    "empty_dictionary = {}\n",
    "empty_dictionary = dict()"
   ]
  },
  {
   "cell_type": "code",
   "execution_count": null,
   "metadata": {
    "collapsed": true
   },
   "outputs": [],
   "source": [
    "# Add entry to the dictionary:\n",
    "empty_dictionary['milk'] = 3"
   ]
  },
  {
   "cell_type": "code",
   "execution_count": null,
   "metadata": {
    "collapsed": false
   },
   "outputs": [],
   "source": [
    "print(empty_dictionary)"
   ]
  },
  {
   "cell_type": "markdown",
   "metadata": {},
   "source": [
    "Generally speaking, people tend to use dictionaries in two ways:\n",
    "\n",
    "1. As an index, to quickly look things up. (See the `shopping_list` example)\n",
    "2. To stand for some kind of data point. For example:"
   ]
  },
  {
   "cell_type": "code",
   "execution_count": null,
   "metadata": {
    "collapsed": true
   },
   "outputs": [],
   "source": [
    "# This is another (very readable!) way to initialize a dictionary:\n",
    "human = dict(name='Bob', \n",
    "             age=24, \n",
    "             occupation='Michael Jackson impersonator')"
   ]
  },
  {
   "cell_type": "markdown",
   "metadata": {},
   "source": [
    "In the second case, it is very common to have a list of dictionaries. Such a list corresponds more or less to a spreadsheet or a database, where each dictionary constitutes one row. You can think of the keys as the column headers, and the values as the cell values. We will explore this metaphor further next week."
   ]
  },
  {
   "cell_type": "markdown",
   "metadata": {},
   "source": [
    "## Exercises\n",
    "\n",
    "Phew! That was a lot of theory to take in! Below are some assignments to play around with Python and to get a feeling for what you can do with all the objects in Python. There will be a little more theory here and there, but now you can work at your own pace, rather than mostly listening to us talk about Python. If you get stuck, please remember the 15-minute rule. If you are stuck for longer than 15 minutes: *contact us*. We're there to help.\n",
    "\n",
    "Tips:\n",
    "\n",
    "* Try to do the exercises together with someone. This becomes more relevant as the course progresses.\n",
    "* Remember the `dir` and `help`-functions. They tell you what methods an object has, and how to use those methods.\n",
    "* The [library reference](https://docs.python.org/3/library/index.html) provides a good overview of the language. You can also find all built-in functions and methods there."
   ]
  },
  {
   "cell_type": "markdown",
   "metadata": {
    "collapsed": true
   },
   "source": [
    "### String formatting and `repr`\n",
    "\n",
    "As we've seen above, it's possible to make strings that span multiple lines. Here are two ways to do so:"
   ]
  },
  {
   "cell_type": "code",
   "execution_count": 5,
   "metadata": {
    "collapsed": true
   },
   "outputs": [],
   "source": [
    "multiline_text_1 = \"\"\"This is a multiline text, so it is enclosed by triple quotes.\n",
    "Pretty cool stuff!\n",
    "I always wanted to type more than one line, so today is my lucky day!\"\"\"\n",
    "multiline_text_2 = \"This is a multiline text, so it is enclosed by triple quotes.\\nPretty cool stuff!\\nI always wanted to type more than one line, so today is my lucky day!\""
   ]
  },
  {
   "cell_type": "code",
   "execution_count": 6,
   "metadata": {
    "collapsed": false
   },
   "outputs": [
    {
     "name": "stdout",
     "output_type": "stream",
     "text": [
      "True\n"
     ]
    }
   ],
   "source": [
    "# With the double equals sign, we can show that these are equivalent:\n",
    "print(multiline_text_1 == multiline_text_2)"
   ]
  },
  {
   "cell_type": "markdown",
   "metadata": {
    "collapsed": true
   },
   "source": [
    "So from this we can conclude that `multiline_text_1` has the same hidden characters (`\\n`, which stands for 'new line') as `multiline_text_2`. You can show that this is indeed true by using the built-in `repr` function (which gives you the Python-internal *repr*esentation of an object)."
   ]
  },
  {
   "cell_type": "code",
   "execution_count": 7,
   "metadata": {
    "collapsed": false
   },
   "outputs": [
    {
     "name": "stdout",
     "output_type": "stream",
     "text": [
      "'This is a multiline text, so it is enclosed by triple quotes.\\nPretty cool stuff!\\nI always wanted to type more than one line, so today is my lucky day!'\n"
     ]
    }
   ],
   "source": [
    "# Show the internal representation of multiline_text_1.\n",
    "print(repr(multiline_text_1))"
   ]
  },
  {
   "cell_type": "markdown",
   "metadata": {
    "collapsed": true
   },
   "source": [
    "**Question** which string methods could you use to turn a multiline string into a paragraph? (Without a newline after each line)."
   ]
  },
  {
   "cell_type": "code",
   "execution_count": 9,
   "metadata": {
    "collapsed": false
   },
   "outputs": [
    {
     "name": "stdout",
     "output_type": "stream",
     "text": [
      "This is a multiline text, so it is enclosed by triple quotes.\n",
      "Pretty cool stuff!\n",
      "I always wanted to type more than one line, so today is my lucky day!\n"
     ]
    }
   ],
   "source": [
    "print(multiline_text_1)"
   ]
  },
  {
   "cell_type": "markdown",
   "metadata": {
    "collapsed": true
   },
   "source": [
    "**Question** which string method should you use to turn `multiline_text_1` into a list of sentences? You can use the code box below to experiment."
   ]
  },
  {
   "cell_type": "code",
   "execution_count": null,
   "metadata": {
    "collapsed": true
   },
   "outputs": [],
   "source": []
  },
  {
   "cell_type": "markdown",
   "metadata": {
    "collapsed": true
   },
   "source": [
    "### Variable assignment & using pythontutor.com\n",
    "\n",
    "The website http://pythontutor.com/ is an excellent help in showing you how Python works 'under the hood'. We'll look at a couple of code samples to make sense of how Python behaves.\n",
    "\n",
    "**Code snippet 1**\n",
    "\n",
    "Here's a small snippet where we first assign some values to the variable `x`, and then also to `y`. Take a look at the interactive visualization [here](http://pythontutor.com/visualize.html#code=x%20%3D%201%0Ax%20%3D%202%0Ax%20%3D%203%0Ay%20%3D%203&cumulative=false&curInstr=0&heapPrimitives=false&mode=display&origin=opt-frontend.js&py=3&rawInputLstJSON=%5B%5D&textReferences=false) to see what happens.\n",
    "\n",
    "```python\n",
    "x = 1\n",
    "x = 2\n",
    "x = 3\n",
    "y = 3\n",
    "```\n",
    "\n",
    "**Code snippet 2**\n",
    "\n",
    "Here's a small snippet where `x` refers to a list, and `y` is made to *refer to the same list*. Click [here](http://pythontutor.com/visualize.html#code=x%20%3D%20%5B1,2,3%5D%0Ax.append(4%29%0Ay%20%3D%20x%0Ay.append(5%29%0Aprint(x%29&cumulative=false&curInstr=5&heapPrimitives=false&mode=display&origin=opt-frontend.js&py=3&rawInputLstJSON=%5B%5D&textReferences=false) to see the visualization of this bit of code.\n",
    "\n",
    "```\n",
    "x = [1,2,3]\n",
    "x.append(4)\n",
    "y = x\n",
    "y.append(5)\n",
    "print(x)\n",
    "```\n",
    "\n",
    "Do you understand why this code works the way it does?\n",
    "\n",
    "**Code snippet 3**\n",
    "\n",
    "If you do the same with integers, Python behaves differently. Click [here](http://pythontutor.com/visualize.html#code=x%20%3D%201%0Ax%20%2B%3D%201%0Ay%20%3D%20x%0Ay%20%2B%3D%201%0Aprint(x%29%0Aprint(y%29&cumulative=false&curInstr=5&heapPrimitives=false&mode=display&origin=opt-frontend.js&py=3&rawInputLstJSON=%5B%5D&textReferences=false) to see the visualization of the code below.\n",
    "\n",
    "```python\n",
    "x = 1\n",
    "x += 1\n",
    "y = x\n",
    "y += 1\n",
    "print(x)\n",
    "print(y)\n",
    "```\n",
    "\n",
    "The difference between snippet 2 and snippet 3 is that lists are *mutable objects*. They are containers whose contents can be changed, but changing their contents doesn't change their identity. Integers are *immutable*. They don't change, but rather `x += 1` makes `x` refer to a *different number* that is different from the old one by exactly 1.\n",
    "\n",
    "**Code snippet 4**\n",
    "\n",
    "The way to prevent the behavior in the second code snippet is to copy the list. Try to visualize this code [here](http://pythontutor.com/visualize.html#mode=edit).\n",
    "\n",
    "```python\n",
    "x = [1,2,3,4]\n",
    "y = x.copy() # or, equivalently, y = x[:]\n",
    "y.append(5)\n",
    "```\n",
    "\n",
    "**Exercise** Play around with the different operations that you've seen in this notebook. Can you predict what happens?\n",
    "\n",
    "\n",
    "**(Advanced) Code snippet 5**\n",
    "\n",
    "For future reference: the solution above only works for simple lists. The `copy` method (AKA *shallow copy*) isn't enough for nested lists. See the issue [here](http://pythontutor.com/visualize.html#code=x%20%3D%20%5B%5B1,2,3%5D,%5B4,5,6%5D%5D%0Ay%20%3D%20x.copy(%29%0Ay%5B1%5D.append(7%29&cumulative=false&curInstr=3&heapPrimitives=false&mode=display&origin=opt-frontend.js&py=3&rawInputLstJSON=%5B%5D&textReferences=false).\n",
    "\n",
    "```python\n",
    "x = [[1,2,3],[4,5,6]]\n",
    "y = x.copy()\n",
    "# This still modifies x.\n",
    "y[1].append(7) \n",
    "```\n",
    "\n",
    "For lists containing other lists, you need the `deepcopy` method. See it in action [here](http://pythontutor.com/visualize.html#code=import%20copy%0A%0Ax%20%3D%20%5B%5B1,2,3%5D,%5B4,5,6%5D%5D%0Ay%20%3D%20copy.deepcopy(x%29%0Ay%5B1%5D.append(7%29&cumulative=false&curInstr=3&heapPrimitives=false&mode=display&origin=opt-frontend.js&py=3&rawInputLstJSON=%5B%5D&textReferences=false).\n",
    "\n",
    "```python\n",
    "import copy\n",
    "\n",
    "x = [[1,2,3],[4,5,6]]\n",
    "y = copy.deepcopy(x)\n",
    "# Problem solved!\n",
    "y[1].append(7)\n",
    "```\n",
    "\n"
   ]
  },
  {
   "cell_type": "markdown",
   "metadata": {},
   "source": [
    "### Get creative\n",
    "\n",
    "Here's some space to do whatever you want! Have fun :)"
   ]
  },
  {
   "cell_type": "code",
   "execution_count": null,
   "metadata": {
    "collapsed": true
   },
   "outputs": [],
   "source": []
  },
  {
   "cell_type": "code",
   "execution_count": null,
   "metadata": {
    "collapsed": true
   },
   "outputs": [],
   "source": []
  },
  {
   "cell_type": "code",
   "execution_count": null,
   "metadata": {
    "collapsed": true
   },
   "outputs": [],
   "source": []
  },
  {
   "cell_type": "code",
   "execution_count": null,
   "metadata": {
    "collapsed": true
   },
   "outputs": [],
   "source": []
  },
  {
   "cell_type": "code",
   "execution_count": null,
   "metadata": {
    "collapsed": true
   },
   "outputs": [],
   "source": []
  }
 ],
 "metadata": {
  "anaconda-cloud": {},
  "kernelspec": {
   "display_name": "Python [default]",
   "language": "python",
   "name": "python3"
  },
  "language_info": {
   "codemirror_mode": {
    "name": "ipython",
    "version": 3
   },
   "file_extension": ".py",
   "mimetype": "text/x-python",
   "name": "python",
   "nbconvert_exporter": "python",
   "pygments_lexer": "ipython3",
   "version": "3.5.2"
  },
  "nbpresent": {
   "slides": {
    "885982de-393b-4426-bf75-6f60fd074759": {
     "id": "885982de-393b-4426-bf75-6f60fd074759",
     "prev": "e1fd741a-c61b-4e01-b5f5-b12c46d6f454",
     "regions": {
      "16d7838b-e3f7-4bc0-a615-afc598ade8bd": {
       "attrs": {
        "height": 0.8,
        "width": 0.8,
        "x": 0.1,
        "y": 0.1
       },
       "content": {
        "cell": "b7f6b1da-87c1-4e16-bd55-574c34db90ea",
        "part": "whole"
       },
       "id": "16d7838b-e3f7-4bc0-a615-afc598ade8bd"
      },
      "1d7ed633-8ee9-4746-be8e-c0ad21892d69": {
       "attrs": {
        "height": 0.4,
        "width": 0.8,
        "x": 0.1,
        "y": 0.5
       },
       "content": {
        "cell": "a984930a-be23-4ea2-a87d-73dfdf9e17ca",
        "part": "whole"
       },
       "id": "1d7ed633-8ee9-4746-be8e-c0ad21892d69"
      }
     }
    },
    "e1fd741a-c61b-4e01-b5f5-b12c46d6f454": {
     "id": "e1fd741a-c61b-4e01-b5f5-b12c46d6f454",
     "prev": null,
     "regions": {
      "033f0f4d-8b19-4f17-bd50-582f3e0e64b0": {
       "attrs": {
        "height": 0.8,
        "width": 0.8,
        "x": 0.1,
        "y": 0.1
       },
       "content": {
        "cell": "8417a2cc-6915-4770-ae72-186a27a011d5",
        "part": "whole"
       },
       "id": "033f0f4d-8b19-4f17-bd50-582f3e0e64b0"
      }
     }
    }
   },
   "themes": {}
  }
 },
 "nbformat": 4,
 "nbformat_minor": 0
}
