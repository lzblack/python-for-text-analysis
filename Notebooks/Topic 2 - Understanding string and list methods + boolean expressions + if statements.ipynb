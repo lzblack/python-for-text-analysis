{
 "cells": [
  {
   "cell_type": "markdown",
   "metadata": {},
   "source": [
    "# Topic 2- Understanding strings and list methods + boolean expressions + if statements\n",
    "Python has a lot to offer. You can already do lots of things by just using what is already there. However, it's of course important to understand what is already there. This week, we will get a better understanding of *strings* and *lists*, with a focus on the built-in methods. In addition, we will explain the most important elements of these methods. Finally, we will introduce a core element of programming: boolean expressions. These are very useful for **if statements**, which might be the most used thing in Python."
   ]
  },
  {
   "cell_type": "markdown",
   "metadata": {},
   "source": [
    "If you have questions about this topic, please send an email to m.c.postma@vu.nl"
   ]
  },
  {
   "cell_type": "markdown",
   "metadata": {},
   "source": [
    "### At the end of this topic, you will be able to\n",
    "* work with and understand *boolean expressions*\n",
    "* work with and understand *if statements*\n",
    "* understand what *indentation* is\n",
    "* understand *args* and *kwargs*\n",
    "* work with and understand *string* methods\n",
    "* work with and understand *list* methods"
   ]
  },
  {
   "cell_type": "markdown",
   "metadata": {},
   "source": [
    "### This requires that you already have (some) knowledge about:\n",
    "* basic types \n",
    "* basic knowledge of string and list methods"
   ]
  },
  {
   "cell_type": "markdown",
   "metadata": {},
   "source": [
    "### If you want to learn more about these topics, you might find the following links useful:\n",
    "* [string methods](https://docs.python.org/3/library/stdtypes.html#string-methods)\n",
    "* [list methods](https://docs.python.org/3/tutorial/datastructures.html)\n",
    "* [args and kwargs](http://thepythonguru.com/python-args-and-kwargs/)\n",
    "* [boolean expressions](https://docs.python.org/3.5/library/stdtypes.html#)\n",
    "* [if elif else](http://www.programiz.com/python-programming/if-elif-else)\n",
    "* [Raymond Hettinger talk, not directly related, but it is just a very nice talk](https://www.youtube.com/watch?v=OSGv2VnC0go)"
   ]
  },
  {
   "cell_type": "markdown",
   "metadata": {},
   "source": [
    "## Subtopic: Arguments (args) and keyword arguments (kwargs)\n",
    "A good understanding of the terms **args** and **kwargs** is important for list and string methods. Let's look at some examples:"
   ]
  },
  {
   "cell_type": "code",
   "execution_count": null,
   "metadata": {
    "collapsed": false
   },
   "outputs": [],
   "source": [
    "a_string = 'hello world'\n",
    "print('example 1. upper method:', a_string.upper())\n",
    "print('example 2. count method:', a_string.count('l'))\n",
    "print('example 3. replace method:', a_string.replace('l', 'b'))\n",
    "print('example 4. split method:', a_string.split())\n",
    "print('example 5. split method:', a_string.split(sep='o'))"
   ]
  },
  {
   "cell_type": "markdown",
   "metadata": {},
   "source": [
    "the argument *'l'* in example 2 is an argument. *sep='o'* in example 5 is an example of a keyword argument. Let's analyze the examples.\n",
    "\n",
    "| example | method  | arguments (args) | keyword arguments (kwargs) |\n",
    "|---------|---------| -----------------|----------------------------|\n",
    "| `1`     | upper   | 0                | 0                          |\n",
    "| `2`     | count   | 1                | 0                          |\n",
    "| `3`     | replace | 2                | 0                          |\n",
    "| `4`     | split   | 0                | 0                          |\n",
    "| `5`     | split   | 0                | 1                          |"
   ]
  },
  {
   "cell_type": "markdown",
   "metadata": {},
   "source": [
    "This might look a bit confusing, because sometimes methods have arguments and/or keyword arguments and sometimes they do not. Luckily Python has a built-in function **help**, which provides us insight into how to use each method."
   ]
  },
  {
   "cell_type": "code",
   "execution_count": null,
   "metadata": {
    "collapsed": false
   },
   "outputs": [],
   "source": [
    "help(str.upper)"
   ]
  },
  {
   "cell_type": "markdown",
   "metadata": {},
   "source": [
    "we learn that **str.upper** takes no arguments and no keyword arguments (nothing between the parentheses) and returns a string (-> str)."
   ]
  },
  {
   "cell_type": "code",
   "execution_count": null,
   "metadata": {
    "collapsed": false
   },
   "outputs": [],
   "source": [
    "help(str.count)"
   ]
  },
  {
   "cell_type": "markdown",
   "metadata": {},
   "source": [
    "we learn that **str.count** takes one argument (*sub*) and returns an integer (-> int). You can ignore the information between square brackets for now."
   ]
  },
  {
   "cell_type": "code",
   "execution_count": null,
   "metadata": {
    "collapsed": false
   },
   "outputs": [],
   "source": [
    "help(str.replace)"
   ]
  },
  {
   "cell_type": "markdown",
   "metadata": {},
   "source": [
    "we learn that **str.replace** takes two arguments (*old* and *new*) and no keyword arguments. It returns a string (-> str)."
   ]
  },
  {
   "cell_type": "code",
   "execution_count": null,
   "metadata": {
    "collapsed": false
   },
   "outputs": [],
   "source": [
    "help(str.split)"
   ]
  },
  {
   "cell_type": "markdown",
   "metadata": {},
   "source": [
    "Now it becomes interesting. **str.split** has no arguments and two keyword arguments (*sep* and *maxsplit*). The method returns a list of strings."
   ]
  },
  {
   "cell_type": "markdown",
   "metadata": {},
   "source": [
    "#### Difference arguments (args) and keyword arguments (kwargs)\n",
    "* Arguments (args) are **compulsory** in order to call a method.\n",
    "* Keyword arguments (kwargs) are **optional**. They can be optional since they usually have a **default** value. By using the keyword argument, you simply change the default value to another value."
   ]
  },
  {
   "cell_type": "markdown",
   "metadata": {
    "collapsed": true
   },
   "source": [
    "For example, if we call a method that needs an argument without an argument, we get an error:"
   ]
  },
  {
   "cell_type": "code",
   "execution_count": null,
   "metadata": {
    "collapsed": false
   },
   "outputs": [],
   "source": [
    "a_string = 'hello world'\n",
    "a_string.count()"
   ]
  },
  {
   "cell_type": "markdown",
   "metadata": {},
   "source": [
    "However, if we do not provide a value for keyword arguments, we do not get an error:"
   ]
  },
  {
   "cell_type": "code",
   "execution_count": null,
   "metadata": {
    "collapsed": false
   },
   "outputs": [],
   "source": [
    "a_string = 'hello world'\n",
    "a_string.split()"
   ]
  },
  {
   "cell_type": "markdown",
   "metadata": {},
   "source": [
    "#### List methods"
   ]
  },
  {
   "cell_type": "markdown",
   "metadata": {},
   "source": [
    "So far, we've explained args and kwargs in order to get a better understanding of string methods. However, with what we have learned, we can also understand the help messages from list methods:"
   ]
  },
  {
   "cell_type": "code",
   "execution_count": null,
   "metadata": {
    "collapsed": true
   },
   "outputs": [],
   "source": [
    "a_list = [1, 2, 3, 1]"
   ]
  },
  {
   "cell_type": "code",
   "execution_count": null,
   "metadata": {
    "collapsed": false
   },
   "outputs": [],
   "source": [
    "help(a_list.count)"
   ]
  },
  {
   "cell_type": "markdown",
   "metadata": {},
   "source": [
    "We learn that the list method **count** takes one argument (*value*), no keyword arguments, and returns an integer which represents the number of occurrences of the *value*."
   ]
  },
  {
   "cell_type": "code",
   "execution_count": null,
   "metadata": {
    "collapsed": false
   },
   "outputs": [],
   "source": [
    "a_list.count(1)"
   ]
  },
  {
   "cell_type": "markdown",
   "metadata": {},
   "source": [
    "However, please take a good look at the following help message:"
   ]
  },
  {
   "cell_type": "code",
   "execution_count": null,
   "metadata": {
    "collapsed": false
   },
   "outputs": [],
   "source": [
    "help(a_list.append)"
   ]
  },
  {
   "cell_type": "markdown",
   "metadata": {},
   "source": [
    "The list method **append** takes one argument (*object* which means that it can be any python type) and returns *None*. This is sort of surprising. What is the point of having a method that returns *None*? However, look at the following code snippet:"
   ]
  },
  {
   "cell_type": "code",
   "execution_count": null,
   "metadata": {
    "collapsed": false
   },
   "outputs": [],
   "source": [
    "a_list.append(10)\n",
    "print(a_list)"
   ]
  },
  {
   "cell_type": "markdown",
   "metadata": {},
   "source": [
    "The integer *10* is appended to the list by calling the method **append**. The method does not have to return something, because lists are mutable. They are containers whose contents can be changed. In order to get a better understanding of mutable types, e.g. lists, please take a look at this [example](http://pythontutor.com/visualize.html#code=a_list%20%3D%20%5B%5D%0Aa_list.append(1%29%0Aprint(a_list%29%0Aa_list.append(10%29%0Aprint(a_list%29%0A%0Aa_string%20%3D%20'hello'%0Aprint(a_string%29%0Aa_string%20%3D%20'world'%0Aprint(a_string%29&cumulative=false&curInstr=0&heapPrimitives=false&mode=display&origin=opt-frontend.js&py=3&rawInputLstJSON=%5B%5D&textReferences=false). Please click the 'forward' button to see what happens in Python when that code snippet is executed. "
   ]
  },
  {
   "cell_type": "markdown",
   "metadata": {},
   "source": [
    "## Subtopic: Boolean expressions\n",
    "An expression that results in the type `bool' in Python. Possible values are either True or False. Boolean expression are the building blocks of programming. Any expression that results in True or False can be considered a boolean expression. "
   ]
  },
  {
   "cell_type": "markdown",
   "metadata": {},
   "source": [
    "So far you've mainly seen:"
   ]
  },
  {
   "cell_type": "code",
   "execution_count": null,
   "metadata": {
    "collapsed": false
   },
   "outputs": [],
   "source": [
    "print(type('this is a string'))"
   ]
  },
  {
   "cell_type": "code",
   "execution_count": null,
   "metadata": {
    "collapsed": false
   },
   "outputs": [],
   "source": [
    "print(type(['this is a list']))"
   ]
  },
  {
   "cell_type": "markdown",
   "metadata": {},
   "source": [
    "now we're introducing:"
   ]
  },
  {
   "cell_type": "code",
   "execution_count": null,
   "metadata": {
    "collapsed": false
   },
   "outputs": [],
   "source": [
    "print(type(False))"
   ]
  },
  {
   "cell_type": "code",
   "execution_count": null,
   "metadata": {
    "collapsed": false
   },
   "outputs": [],
   "source": [
    "print(type(True))"
   ]
  },
  {
   "cell_type": "markdown",
   "metadata": {},
   "source": [
    "Here is a list of [comparison operators](https://docs.python.org/3.5/library/stdtypes.html#comparisons) used in boolean expressions:\n",
    "\n",
    "| Operator | function |\n",
    "|-----------|--------|\n",
    "| `<` | less than|\n",
    "| `<=` |\tless than or equal to \t|  \t \n",
    "| `>` |\tgreater than \t  \t |\n",
    "| `>=` |\tgreather than or equal to \t  \t |\n",
    "| `==` |\tequal\t |\n",
    "| `!=` |\tnot equal\t|\n"
   ]
  },
  {
   "cell_type": "markdown",
   "metadata": {},
   "source": [
    "### Let's look at some examples\n",
    "Try to guess the output based on the information about the operators in the table above. Hence, will the expression result in True or False in the following examples?"
   ]
  },
  {
   "cell_type": "code",
   "execution_count": null,
   "metadata": {
    "collapsed": false
   },
   "outputs": [],
   "source": [
    "print(5 == 5)"
   ]
  },
  {
   "cell_type": "code",
   "execution_count": null,
   "metadata": {
    "collapsed": false
   },
   "outputs": [],
   "source": [
    "print(5 == 4)"
   ]
  },
  {
   "cell_type": "code",
   "execution_count": null,
   "metadata": {
    "collapsed": false
   },
   "outputs": [],
   "source": [
    "boolean_expression = 5 == 4\n",
    "print(boolean_expression)"
   ]
  },
  {
   "cell_type": "code",
   "execution_count": null,
   "metadata": {
    "collapsed": false
   },
   "outputs": [],
   "source": [
    "print(10 < 20)"
   ]
  },
  {
   "cell_type": "code",
   "execution_count": null,
   "metadata": {
    "collapsed": false
   },
   "outputs": [],
   "source": [
    "print(10 < 8)"
   ]
  },
  {
   "cell_type": "code",
   "execution_count": null,
   "metadata": {
    "collapsed": false
   },
   "outputs": [],
   "source": [
    "print(10 < 10)"
   ]
  },
  {
   "cell_type": "code",
   "execution_count": null,
   "metadata": {
    "collapsed": false
   },
   "outputs": [],
   "source": [
    "print(10 <= 10)"
   ]
  },
  {
   "cell_type": "code",
   "execution_count": null,
   "metadata": {
    "collapsed": false
   },
   "outputs": [],
   "source": [
    "print(20 >= 21)"
   ]
  },
  {
   "cell_type": "code",
   "execution_count": null,
   "metadata": {
    "collapsed": false
   },
   "outputs": [],
   "source": [
    "print(20 == 20)"
   ]
  },
  {
   "cell_type": "code",
   "execution_count": null,
   "metadata": {
    "collapsed": false
   },
   "outputs": [],
   "source": [
    "print(1  == '1')"
   ]
  },
  {
   "cell_type": "code",
   "execution_count": null,
   "metadata": {
    "collapsed": false
   },
   "outputs": [],
   "source": [
    "print(1 != 2)"
   ]
  },
  {
   "cell_type": "markdown",
   "metadata": {},
   "source": [
    "### [Membership operators](https://docs.python.org/3.5/reference/expressions.html#not-in)\n",
    "Python also has so-called membership operators:\n",
    "\n",
    "| Operator | function |\n",
    "|-----------|--------|\n",
    "| `in` | True if variable (left of operator) is in other variable (right of operator) |\n",
    "| `not in` |\t True if variable (left of operator) is NOT in other variable (right of operator) \t|  \n"
   ]
  },
  {
   "cell_type": "code",
   "execution_count": null,
   "metadata": {
    "collapsed": false
   },
   "outputs": [],
   "source": [
    "letters = ['a','b','c','d']\n",
    "numbers = [1,2,3,4,5]"
   ]
  },
  {
   "cell_type": "code",
   "execution_count": null,
   "metadata": {
    "collapsed": false
   },
   "outputs": [],
   "source": [
    "print('a' in letters)"
   ]
  },
  {
   "cell_type": "code",
   "execution_count": null,
   "metadata": {
    "collapsed": false
   },
   "outputs": [],
   "source": [
    "print('g' not in letters)"
   ]
  },
  {
   "cell_type": "code",
   "execution_count": null,
   "metadata": {
    "collapsed": false
   },
   "outputs": [],
   "source": [
    "print(1 in numbers)"
   ]
  },
  {
   "cell_type": "code",
   "execution_count": null,
   "metadata": {
    "collapsed": false
   },
   "outputs": [],
   "source": [
    "print('a' not in 'hello world')"
   ]
  },
  {
   "cell_type": "markdown",
   "metadata": {},
   "source": [
    "### [Boolean operations](https://docs.python.org/3.5/library/stdtypes.html#boolean-operations-and-or-not)\n",
    "Finally, the most common boolean operations are performed using the operators **and**, **or**, and **not**. Given two boolean expressions, **bool1** and **bool2**, this is how they work:\n",
    "\n",
    "| operation | function |\n",
    "|-----------|--------|\n",
    "| **bool1** `and` **bool2** | True if both **bool1** and **bool2** are True, otherwise False |\n",
    "| **bool1** `or` **bool2** |\tTrue when at least one of the boolean expressions is True, otherwise False\t|  \n",
    "| `not` **bool1** | True if **bool1** is False, otherwise True | "
   ]
  },
  {
   "cell_type": "markdown",
   "metadata": {},
   "source": [
    "an example of **and**:"
   ]
  },
  {
   "cell_type": "code",
   "execution_count": null,
   "metadata": {
    "collapsed": false
   },
   "outputs": [],
   "source": [
    "letters = ['a','b','c','d']\n",
    "numbers = [1,2,3,4,5]"
   ]
  },
  {
   "cell_type": "code",
   "execution_count": null,
   "metadata": {
    "collapsed": false
   },
   "outputs": [],
   "source": [
    "print('a' in letters and 2 in numbers)"
   ]
  },
  {
   "cell_type": "code",
   "execution_count": null,
   "metadata": {
    "collapsed": false
   },
   "outputs": [],
   "source": [
    "print(5 < 1 and 3 in numbers)"
   ]
  },
  {
   "cell_type": "markdown",
   "metadata": {},
   "source": [
    "an example of **or**:"
   ]
  },
  {
   "cell_type": "code",
   "execution_count": null,
   "metadata": {
    "collapsed": false
   },
   "outputs": [],
   "source": [
    "letters = ['a','b','c','d']\n",
    "numbers = [1,2,3,4,5]"
   ]
  },
  {
   "cell_type": "code",
   "execution_count": null,
   "metadata": {
    "collapsed": false
   },
   "outputs": [],
   "source": [
    "print('f' in letters or 2 in numbers)"
   ]
  },
  {
   "cell_type": "code",
   "execution_count": null,
   "metadata": {
    "collapsed": false
   },
   "outputs": [],
   "source": [
    "print('a' in letters or 2 in numbers)"
   ]
  },
  {
   "cell_type": "code",
   "execution_count": null,
   "metadata": {
    "collapsed": false
   },
   "outputs": [],
   "source": [
    "print('f' in letters or 10 in numbers)"
   ]
  },
  {
   "cell_type": "markdown",
   "metadata": {},
   "source": [
    "an example of **not**:"
   ]
  },
  {
   "cell_type": "code",
   "execution_count": null,
   "metadata": {
    "collapsed": false
   },
   "outputs": [],
   "source": [
    "value = 5\n",
    "print(not value == 4)"
   ]
  },
  {
   "cell_type": "markdown",
   "metadata": {},
   "source": [
    "It's important to practice a lot with boolean expressions. Here is a list of them, which orginate from [learnpythonthehardway](http://learnpythonthehardway.org/book/ex28.html). Try to guess the output."
   ]
  },
  {
   "cell_type": "code",
   "execution_count": null,
   "metadata": {
    "collapsed": false
   },
   "outputs": [],
   "source": [
    "print(True and True)"
   ]
  },
  {
   "cell_type": "code",
   "execution_count": null,
   "metadata": {
    "collapsed": false
   },
   "outputs": [],
   "source": [
    "print(False and True)"
   ]
  },
  {
   "cell_type": "code",
   "execution_count": null,
   "metadata": {
    "collapsed": false
   },
   "outputs": [],
   "source": [
    "print(1 == 1 and 2 == 1)"
   ]
  },
  {
   "cell_type": "code",
   "execution_count": null,
   "metadata": {
    "collapsed": false
   },
   "outputs": [],
   "source": [
    "print(\"test\" == \"test\")"
   ]
  },
  {
   "cell_type": "code",
   "execution_count": null,
   "metadata": {
    "collapsed": false
   },
   "outputs": [],
   "source": [
    "print(1 == 1 or 2 != 1)"
   ]
  },
  {
   "cell_type": "code",
   "execution_count": null,
   "metadata": {
    "collapsed": false
   },
   "outputs": [],
   "source": [
    "print(True and 1 == 1)"
   ]
  },
  {
   "cell_type": "code",
   "execution_count": null,
   "metadata": {
    "collapsed": false
   },
   "outputs": [],
   "source": [
    "print(False and 0 != 0)"
   ]
  },
  {
   "cell_type": "code",
   "execution_count": null,
   "metadata": {
    "collapsed": false
   },
   "outputs": [],
   "source": [
    "print(True or 1 == 1)"
   ]
  },
  {
   "cell_type": "code",
   "execution_count": null,
   "metadata": {
    "collapsed": false
   },
   "outputs": [],
   "source": [
    "print(\"test\" == \"testing\")"
   ]
  },
  {
   "cell_type": "code",
   "execution_count": null,
   "metadata": {
    "collapsed": false
   },
   "outputs": [],
   "source": [
    "print(1 != 0 and 2 == 1)"
   ]
  },
  {
   "cell_type": "code",
   "execution_count": null,
   "metadata": {
    "collapsed": false
   },
   "outputs": [],
   "source": [
    "print(\"test\" != \"testing\")"
   ]
  },
  {
   "cell_type": "code",
   "execution_count": null,
   "metadata": {
    "collapsed": false
   },
   "outputs": [],
   "source": [
    "print(\"test\" == 1)"
   ]
  },
  {
   "cell_type": "code",
   "execution_count": null,
   "metadata": {
    "collapsed": false
   },
   "outputs": [],
   "source": [
    "print(not (True and False))"
   ]
  },
  {
   "cell_type": "code",
   "execution_count": null,
   "metadata": {
    "collapsed": false
   },
   "outputs": [],
   "source": [
    "print(not (1 == 1 and 0 != 1))"
   ]
  },
  {
   "cell_type": "code",
   "execution_count": null,
   "metadata": {
    "collapsed": false
   },
   "outputs": [],
   "source": [
    "print(not (10 == 1 or 1000 == 1000))"
   ]
  },
  {
   "cell_type": "code",
   "execution_count": null,
   "metadata": {
    "collapsed": false
   },
   "outputs": [],
   "source": [
    "print(not (1 != 10 or 3 == 4))"
   ]
  },
  {
   "cell_type": "code",
   "execution_count": null,
   "metadata": {
    "collapsed": false
   },
   "outputs": [],
   "source": [
    "print(not (\"testing\" == \"testing\" and \"Zed\" == \"Cool Guy\"))"
   ]
  },
  {
   "cell_type": "code",
   "execution_count": null,
   "metadata": {
    "collapsed": false
   },
   "outputs": [],
   "source": [
    "print(1 == 1 and (not (\"testing\" == 1 or 1 == 0)))"
   ]
  },
  {
   "cell_type": "code",
   "execution_count": null,
   "metadata": {
    "collapsed": false
   },
   "outputs": [],
   "source": [
    "print(\"chunky\" == \"bacon\" and (not (3 == 4 or 3 == 3)))"
   ]
  },
  {
   "cell_type": "code",
   "execution_count": null,
   "metadata": {
    "collapsed": false
   },
   "outputs": [],
   "source": [
    "print(3 == 3 and (not (\"testing\" == \"testing\" or \"Python\" == \"Fun\")))"
   ]
  },
  {
   "cell_type": "code",
   "execution_count": null,
   "metadata": {
    "collapsed": false
   },
   "outputs": [],
   "source": [
    "print(\"test\" != \"testing\" and 1 == 1 and 2 == 2 and 20 in [1, 20, 3, 4,5])"
   ]
  },
  {
   "cell_type": "markdown",
   "metadata": {},
   "source": [
    "### [All and any](https://docs.python.org/3/library/functions.html#all) \n",
    "Finally, take a look at the following example. Do you think it is clear?"
   ]
  },
  {
   "cell_type": "code",
   "execution_count": null,
   "metadata": {
    "collapsed": false
   },
   "outputs": [],
   "source": [
    "print(\"test\" != \"testing\" and 1 == 1 and 2 == 2 or 20 in [1, 20, 3, 4,5])"
   ]
  },
  {
   "cell_type": "markdown",
   "metadata": {},
   "source": [
    "Personally, I don't think that example was clear. Luckily, Python has another trick to deal with this type of examples. Given a list of boolean expressions, this is how they work:\n",
    "\n",
    "| operation | function |\n",
    "|-----------|--------|\n",
    "| `all` | True if all boolean expressions are True, otherwise False |\t\n",
    "| `any` | True if at least one boolean expression is True, otherwise False |"
   ]
  },
  {
   "cell_type": "code",
   "execution_count": null,
   "metadata": {
    "collapsed": false
   },
   "outputs": [],
   "source": [
    "letters = ['a','b','c','d']\n",
    "numbers = [1,2,3,4,5]"
   ]
  },
  {
   "cell_type": "code",
   "execution_count": null,
   "metadata": {
    "collapsed": false
   },
   "outputs": [],
   "source": [
    "boolean_expression1 =  all(['a' in letters, \n",
    "                            2 in numbers])\n",
    "print(boolean_expression1)"
   ]
  },
  {
   "cell_type": "code",
   "execution_count": null,
   "metadata": {
    "collapsed": false
   },
   "outputs": [],
   "source": [
    "boolean_expression2 =  all(['a' in letters, \n",
    "                            20 in numbers])\n",
    "print(boolean_expression2)"
   ]
  },
  {
   "cell_type": "code",
   "execution_count": null,
   "metadata": {
    "collapsed": false
   },
   "outputs": [],
   "source": [
    "boolean_expression3 = all([]) # think about this one!\n",
    "print(boolean_expression3)"
   ]
  },
  {
   "cell_type": "code",
   "execution_count": null,
   "metadata": {
    "collapsed": false
   },
   "outputs": [],
   "source": [
    "letters = ['a','b','c','d']\n",
    "numbers = [1,2,3,4,5]"
   ]
  },
  {
   "cell_type": "code",
   "execution_count": null,
   "metadata": {
    "collapsed": false
   },
   "outputs": [],
   "source": [
    "boolean_expression1 =  any(['f' in letters, \n",
    "                            200 in numbers])\n",
    "print(boolean_expression1)"
   ]
  },
  {
   "cell_type": "code",
   "execution_count": null,
   "metadata": {
    "collapsed": false
   },
   "outputs": [],
   "source": [
    "boolean_expression2 =  any(['a' in letters, \n",
    "                            20 in numbers])\n",
    "print(boolean_expression2)"
   ]
  },
  {
   "cell_type": "code",
   "execution_count": null,
   "metadata": {
    "collapsed": false
   },
   "outputs": [],
   "source": [
    "boolean_expression3 = any([])\n",
    "print(boolean_expression3)"
   ]
  },
  {
   "cell_type": "markdown",
   "metadata": {},
   "source": [
    "## Subtopic: If statements\n",
    "You might wonder why I took quite some time explaining boolean expresisons. One of the reasons is that they are the main element in probably one of the most used things in Python: **if statements**. The following picture explains what happens in an if statement in Python.\n",
    "![alt text](images/if_else_statement.jpg \"Logo Title Text 1\")"
   ]
  },
  {
   "cell_type": "markdown",
   "metadata": {},
   "source": [
    "Let's look at an example (modify the value of *number* to understand what is happening here):"
   ]
  },
  {
   "cell_type": "code",
   "execution_count": null,
   "metadata": {
    "collapsed": false
   },
   "outputs": [],
   "source": [
    "number = 2 # try changing this value to 6\n",
    "if number <= 5:\n",
    "    print(number)"
   ]
  },
  {
   "cell_type": "markdown",
   "metadata": {},
   "source": [
    "However, we also want to execute code when the number is higher than 5. This can be done using the **else** statement (modify the value of *number* to understand what is happening here)."
   ]
  },
  {
   "cell_type": "code",
   "execution_count": null,
   "metadata": {
    "collapsed": false
   },
   "outputs": [],
   "source": [
    "number = 10 # try changing this value to 2\n",
    "if number <= 5:\n",
    "    print(number)\n",
    "else:\n",
    "    print('number is higher than 5')"
   ]
  },
  {
   "cell_type": "markdown",
   "metadata": {},
   "source": [
    "### Indentation\n",
    "Let's take another look at the example from above (I've added line numbers):\n",
    "```python\n",
    "1. if number <= 5:\n",
    "2.     print(number)\n",
    "3. else:\n",
    "4.    print('number is higher than 5')\n",
    "```\n",
    "You might have noticed that line 2 starts with 4 spaces. This is on purpose! When the boolean expression in line 1 is True, Python executes the code from the next line that starts four spaces or one tab (an indent) to the right. This is called indentation. Both four spaces and tabs can be used for indentation. The most popular way to indent is four spaces (see [stackoverflow](http://stackoverflow.com/questions/120926/why-does-python-pep-8-strongly-recommend-spaces-over-tabs-for-indentation)). For now, you do not have to worry about this, since a tab is automatically converted to four spaces in notebooks."
   ]
  },
  {
   "cell_type": "markdown",
   "metadata": {},
   "source": [
    "**if statements** are often used within a for loop. So let's take our example from above and use it in a for loop."
   ]
  },
  {
   "cell_type": "code",
   "execution_count": null,
   "metadata": {
    "collapsed": false
   },
   "outputs": [],
   "source": [
    "for number in range(10):\n",
    "    if number <= 5:\n",
    "        print(number)\n",
    "    else:\n",
    "        print('number is higher than 5')"
   ]
  },
  {
   "cell_type": "markdown",
   "metadata": {
    "collapsed": true
   },
   "source": [
    "Finally, sometimes we want to check multiple conditions in an efficient way in our **if statements**. This is also possible in Python with the **elif** statement. (try adding and removing some **elif** statements and see what happens)"
   ]
  },
  {
   "cell_type": "code",
   "execution_count": null,
   "metadata": {
    "collapsed": false
   },
   "outputs": [],
   "source": [
    "for number in range(10):\n",
    "    if number <= 5:\n",
    "        print('IF: ', number)\n",
    "    elif number == 6:\n",
    "        print('ELIF: we found 6')\n",
    "    elif number == 7:\n",
    "        print('ELIF: we found 7')\n",
    "    else:\n",
    "        print('ELSE: above 7, namely: ', number)"
   ]
  }
 ],
 "metadata": {
  "anaconda-cloud": {},
  "kernelspec": {
   "display_name": "Python [conda root]",
   "language": "python",
   "name": "conda-root-py"
  },
  "language_info": {
   "codemirror_mode": {
    "name": "ipython",
    "version": 3
   },
   "file_extension": ".py",
   "mimetype": "text/x-python",
   "name": "python",
   "nbconvert_exporter": "python",
   "pygments_lexer": "ipython3",
   "version": "3.5.2"
  }
 },
 "nbformat": 4,
 "nbformat_minor": 1
}
