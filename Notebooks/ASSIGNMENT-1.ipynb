{
 "cells": [
  {
   "cell_type": "markdown",
   "metadata": {},
   "source": [
    "# Assignment: Understanding string and list methods + boolean expressions + if statements\n",
    "\n",
    "## Due: Tuesday the 8th of November 2016 15:00 p.m.\n",
    "\n",
    "Please name your ipython notebook with the following naming convention: ASSIGNMENT_1_FIRSTNAME_LASTNAME.ipynb \n",
    "\n",
    "Please send your assignment to m.c.postma@vu.nl\n",
    "\n",
    "If you have questions about this topic, please send an email to m.c.postma@vu.nl"
   ]
  },
  {
   "cell_type": "markdown",
   "metadata": {},
   "source": [
    "### Exercise 1"
   ]
  },
  {
   "cell_type": "markdown",
   "metadata": {},
   "source": [
    "Please run the code snippet below and observe what happens."
   ]
  },
  {
   "cell_type": "code",
   "execution_count": null,
   "metadata": {
    "collapsed": false
   },
   "outputs": [],
   "source": [
    "name = input(\"What is your name? \")\n",
    "print(\"Hello, \" + name + \"! How are you?\")\n",
    "print(\"Your name is\" , name)"
   ]
  },
  {
   "cell_type": "markdown",
   "metadata": {},
   "source": [
    "We hearby repeat some of the theory already mentioned in 'Week 1 - Getting started.ipynb':"
   ]
  },
  {
   "cell_type": "markdown",
   "metadata": {},
   "source": [
    "| Topic | Explanation |\n",
    "|-----------|--------|\n",
    "| `name` |\tvariable called *name* to which an input value will be assigned |\n",
    "| `=` |\tan assignment operator \t|  \t \n",
    "| `input` |\t[built-in fuction](https://docs.python.org/3/library/functions.html?highlight=input#input) that reads a line from input, converts it to a string and returns that\t |\n",
    "| `+` |\tconcatenates strings\t  \t |\n",
    "| `,` |\tseparates element in a print function\t | "
   ]
  },
  {
   "cell_type": "markdown",
   "metadata": {},
   "source": [
    "#### 1.a difference between  **+** and **,**\n",
    "What is the difference between using **+** and **,** in a print statement? Experiment with it. Try:\n",
    "\n",
    "* calling the print fuction with multiple strings\n",
    "* printing combinations of strings and integers\n",
    "* assigning multiple strings to one single variable\n",
    "* assigning combinations of strings and integers to one single variable"
   ]
  },
  {
   "cell_type": "code",
   "execution_count": null,
   "metadata": {
    "collapsed": true
   },
   "outputs": [],
   "source": []
  },
  {
   "cell_type": "code",
   "execution_count": null,
   "metadata": {
    "collapsed": true
   },
   "outputs": [],
   "source": []
  },
  {
   "cell_type": "code",
   "execution_count": null,
   "metadata": {
    "collapsed": true
   },
   "outputs": [],
   "source": []
  },
  {
   "cell_type": "code",
   "execution_count": null,
   "metadata": {
    "collapsed": true
   },
   "outputs": [],
   "source": []
  },
  {
   "cell_type": "markdown",
   "metadata": {
    "collapsed": true
   },
   "source": [
    "#### 1.b Asking for names\n",
    "Write a program that asks two people for their names. store the names in variables called **name1** and **name2**. Please say hello to both of them."
   ]
  },
  {
   "cell_type": "code",
   "execution_count": null,
   "metadata": {
    "collapsed": true
   },
   "outputs": [],
   "source": []
  },
  {
   "cell_type": "markdown",
   "metadata": {},
   "source": [
    "### Exercise 2\n",
    "We start again with some repetition of the theory already mentioned in 'Week 1 - Getting started.ipynb':"
   ]
  },
  {
   "cell_type": "markdown",
   "metadata": {},
   "source": [
    "| Topic | Explanation |\n",
    "|-----------|--------|\n",
    "| `quotes` |\tA string is delimited by single quotes ('...') or double quotes (\"...\") |\n",
    "| `special characters` |\tCertain special characters can be used, such as \"\\n\" (for newline) and \"\\t\" (for a tab) \t|  \t \n",
    "| `printing special characters` |\tTo print the special characters, they must be preceded by a backslash (\\\\)\t |\n",
    "| `continue on next line` |\tA backslash (\\\\) at the end of a line is used to continue a string on the next line\t  \t |\n",
    "| `multi-line strings` |\tA multi-line print statement should be enclosed by three double or three single quotes (\"\"\"...\"\"\" of '''...''')\t | "
   ]
  },
  {
   "cell_type": "markdown",
   "metadata": {},
   "source": [
    "Please run the code snippet below:"
   ]
  },
  {
   "cell_type": "code",
   "execution_count": null,
   "metadata": {
    "collapsed": false
   },
   "outputs": [],
   "source": [
    "print('hello\\n')\n",
    "print('To print a newline use \\\\n')\n",
    "print('She said: \\'hello\\'')\n",
    "print('\\tThis is indented')\n",
    "print('This is a very, very, very, very, very, very \\\n",
    "long print statement')\n",
    "print('''\n",
    "This is a multi-line print statement\n",
    "First line\n",
    "Second line\n",
    "''')"
   ]
  },
  {
   "cell_type": "markdown",
   "metadata": {},
   "source": [
    "#### 2.a Write a python script that prints the following figure using only one line of script!\n",
    "\n",
    "        | | |\n",
    "         @ @\n",
    "          *\n",
    "        |\"\"\"|\n"
   ]
  },
  {
   "cell_type": "code",
   "execution_count": null,
   "metadata": {
    "collapsed": true
   },
   "outputs": [],
   "source": []
  },
  {
   "cell_type": "markdown",
   "metadata": {},
   "source": [
    "### Exercise 3\n",
    "We start again with some repetition of the theory already mentioned in 'Week 1 - Getting started.ipynb':"
   ]
  },
  {
   "cell_type": "markdown",
   "metadata": {},
   "source": [
    "| Topic | Explanation |\n",
    "|-----------|--------|\n",
    "| a = b + c\t| if b and c are strings: concatenate b and c| \n",
    "| a = b * c\t| if b is an integer and c is a string: b is repeated c times |\n",
    "| a[0] |\t the first character of string a  |\n",
    "| len(a) |\t the number of characters in string a |\n",
    "| min(a) |\t the smallest element in string a (alphabetically first) |\n",
    "| max(a) |\t the largest element in string a (alphabetically last) |"
   ]
  },
  {
   "cell_type": "markdown",
   "metadata": {},
   "source": [
    "Please run the code snippet below:"
   ]
  },
  {
   "cell_type": "code",
   "execution_count": null,
   "metadata": {
    "collapsed": false
   },
   "outputs": [],
   "source": [
    "b = 'the'\n",
    "c = 'cat'\n",
    "d = ' is on the mat'\n",
    "a = b + ' ' + c + d\n",
    "print(a)\n",
    "a = b * 5\n",
    "print(a)\n",
    "print('The first character of', c, 'is' , c[0])\n",
    "print('The word c has,', len(c) ,'characters')"
   ]
  },
  {
   "cell_type": "markdown",
   "metadata": {},
   "source": [
    "### Exercise 4: block of colors"
   ]
  },
  {
   "cell_type": "markdown",
   "metadata": {},
   "source": [
    "Write a program that asks users for their favorite color. Create the following output (assuming \"red\" is the chosen color). Use \"+\" and \"*\".\n",
    "It should work with any color name though.\n",
    "\n",
    "```xml\n",
    "red red red red red red red red red red  \n",
    "red                                 red\n",
    "red                                 red\n",
    "red red red red red red red red red red\n",
    "```"
   ]
  },
  {
   "cell_type": "code",
   "execution_count": null,
   "metadata": {
    "collapsed": false
   },
   "outputs": [],
   "source": [
    "color = input('what is your favorite color? ')\n",
    "\n",
    "print(color)\n",
    "print(color)\n",
    "print(color)\n",
    "print(color)"
   ]
  },
  {
   "cell_type": "markdown",
   "metadata": {},
   "source": [
    "### Exercise 5: string methods"
   ]
  },
  {
   "cell_type": "code",
   "execution_count": null,
   "metadata": {
    "collapsed": false
   },
   "outputs": [],
   "source": [
    "dir(str)"
   ]
  },
  {
   "cell_type": "markdown",
   "metadata": {},
   "source": [
    "Above, you see all methods of the class **str**. For now, You can ignore all methods that start with one or two underscores. To see help for a method of this class,  you can use help(str.method), for example:"
   ]
  },
  {
   "cell_type": "code",
   "execution_count": null,
   "metadata": {
    "collapsed": false
   },
   "outputs": [],
   "source": [
    "help(str.upper)"
   ]
  },
  {
   "cell_type": "markdown",
   "metadata": {},
   "source": [
    "For each of the following string methods:\n",
    "\n",
    "* give the number of compulsary arguments it takes.\n",
    "* give the type that these arguments have to be (str, list, float, etc)\n",
    "* explain what the function returns and of which type\n",
    "* give a working example. Provide also an example with a keyword argument (assuming the method has a keyword argument)\n",
    "\n",
    "The string methods in question are:\n",
    "\n",
    "* upper\n",
    "* title\n",
    "* rfind\n",
    "* startswith\n",
    "* replace\n",
    "* isalpha"
   ]
  },
  {
   "cell_type": "markdown",
   "metadata": {},
   "source": [
    "The string method **upper** takes no argument or keyword arguments. It returns the string in upper case and hence returns the type string. Since this method takes no keyword argument, there is no possible example of that."
   ]
  },
  {
   "cell_type": "code",
   "execution_count": null,
   "metadata": {
    "collapsed": false
   },
   "outputs": [],
   "source": [
    "a_string = 'hello world'\n",
    "a_string_upper = a_string.upper()\n",
    "print(a_string_upper)"
   ]
  },
  {
   "cell_type": "code",
   "execution_count": null,
   "metadata": {
    "collapsed": false
   },
   "outputs": [],
   "source": []
  },
  {
   "cell_type": "code",
   "execution_count": null,
   "metadata": {
    "collapsed": true
   },
   "outputs": [],
   "source": []
  },
  {
   "cell_type": "code",
   "execution_count": null,
   "metadata": {
    "collapsed": true
   },
   "outputs": [],
   "source": []
  },
  {
   "cell_type": "code",
   "execution_count": null,
   "metadata": {
    "collapsed": true
   },
   "outputs": [],
   "source": []
  },
  {
   "cell_type": "code",
   "execution_count": null,
   "metadata": {
    "collapsed": true
   },
   "outputs": [],
   "source": []
  },
  {
   "cell_type": "markdown",
   "metadata": {},
   "source": [
    "### Exercise 6: list methods"
   ]
  },
  {
   "cell_type": "code",
   "execution_count": null,
   "metadata": {
    "collapsed": false
   },
   "outputs": [],
   "source": [
    "dir(list)"
   ]
  },
  {
   "cell_type": "markdown",
   "metadata": {},
   "source": [
    "Above, you see all methods of the class **list**. For now, You can ignore all methods that start with one or two underscores. To see help for a method of this class,  you can use help(list.method), for example:"
   ]
  },
  {
   "cell_type": "code",
   "execution_count": null,
   "metadata": {
    "collapsed": false
   },
   "outputs": [],
   "source": [
    "help(list.append)"
   ]
  },
  {
   "cell_type": "markdown",
   "metadata": {},
   "source": [
    "For each of the following list methods:\n",
    "\n",
    "* give the number of mandatory arguments it takes (default not considered)\n",
    "* give the type that these arguments have to be\n",
    "* explain what the function returns\n",
    "* give a working example. Provide also an example with a keyword argument (assuming the method has a keyword argument).\n",
    "\n",
    "The list methods in question are:\n",
    "\n",
    "* append\n",
    "* count\n",
    "* index\n",
    "* insert\n",
    "* pop"
   ]
  },
  {
   "cell_type": "code",
   "execution_count": null,
   "metadata": {
    "collapsed": true
   },
   "outputs": [],
   "source": []
  },
  {
   "cell_type": "code",
   "execution_count": null,
   "metadata": {
    "collapsed": true
   },
   "outputs": [],
   "source": []
  },
  {
   "cell_type": "code",
   "execution_count": null,
   "metadata": {
    "collapsed": true
   },
   "outputs": [],
   "source": []
  },
  {
   "cell_type": "code",
   "execution_count": null,
   "metadata": {
    "collapsed": true
   },
   "outputs": [],
   "source": []
  },
  {
   "cell_type": "code",
   "execution_count": null,
   "metadata": {
    "collapsed": true
   },
   "outputs": [],
   "source": []
  },
  {
   "cell_type": "code",
   "execution_count": null,
   "metadata": {
    "collapsed": true
   },
   "outputs": [],
   "source": []
  },
  {
   "cell_type": "markdown",
   "metadata": {
    "collapsed": true
   },
   "source": [
    "### Exercise 7: Beersong\n",
    "[99 Bottles of Beer](https://en.wikipedia.org/wiki/99_Bottles_of_Beer) is a traditional song in the United States and Canada. Write a python program that generates the lyrics to the song."
   ]
  },
  {
   "cell_type": "markdown",
   "metadata": {
    "collapsed": true
   },
   "source": [
    "The song's simple lyrics are as follows:\n",
    "\n",
    "    99 bottles of beer on the wall,\n",
    "    99 bottles of beer.\n",
    "    Take one down, pass it around,\n",
    "    98 bottles of beer on the wall.\n",
    "\n",
    "The same verse is repeated, each time with one fewer bottle. The song\n",
    "is completed when the singer or singers reach zero. After the last bottle\n",
    "is taken down and passed around, there is a special verse:\n",
    "\n",
    "    No more bottles of beer on the wall,\n",
    "    no more bottles of beer.\n",
    "    Go to the store and buy some more,\n",
    "    99 bottles of beer on the wall."
   ]
  },
  {
   "cell_type": "markdown",
   "metadata": {},
   "source": [
    "Notes:\n",
    "\n",
    "* Leave a blank line between verses.\n",
    "* Make sure that you print the singular form of \"bottles\" when the counter is at one."
   ]
  },
  {
   "cell_type": "markdown",
   "metadata": {},
   "source": [
    "Hint:\n",
    "\n",
    "* While developing the program, start from a small number, and\n",
    "change it to 99 when you are done."
   ]
  },
  {
   "cell_type": "code",
   "execution_count": null,
   "metadata": {
    "collapsed": false
   },
   "outputs": [],
   "source": [
    "# change 100 to a smaller number of for testing.\n",
    "for number in reversed(range(1, 100)): \n",
    "    print(number, 'bottles of beer on the wall,')"
   ]
  },
  {
   "cell_type": "markdown",
   "metadata": {
    "collapsed": true
   },
   "source": [
    "### Exercise 8 : Guessing game\n",
    "Write a guessing game that generates a random number, and then asks the user to guess the number. You should tell the user whether the guess is too high or too low, and keep track of the amount of guesses.\n",
    "The output should like this:\n",
    "```xml\n",
    "I am thinking of a number between 1 and 20.\n",
    "Take a guess.\n",
    "10\n",
    "Your guess is too low.\n",
    "Take a guess.\n",
    "15\n",
    "Your guess is too low.\n",
    "Take a guess.\n",
    "17\n",
    "Your guess is too high.\n",
    "Take a guess.\n",
    "16\n",
    "Good job! You guessed my number in 4 guesses!\n",
    "```"
   ]
  },
  {
   "cell_type": "code",
   "execution_count": null,
   "metadata": {
    "collapsed": true
   },
   "outputs": [],
   "source": [
    "import random"
   ]
  },
  {
   "cell_type": "code",
   "execution_count": null,
   "metadata": {
    "collapsed": false
   },
   "outputs": [],
   "source": [
    "secret_number = random.randint(0, 20) # this generates the random number\n",
    "\n",
    "for attempts in range(10): \n",
    "    \n",
    "    guess = input('Take a guess ')\n",
    "    guess_int = int(guess)\n",
    "    \n",
    "    # your code here...\n",
    "    # tell the user if their guess is too high or low\n",
    "      \n",
    "    if guess_int == secret_number:\n",
    "        # change the string 'succes!' to something like:\n",
    "        # Good job! You guessed my number in 4 guesses!\n",
    "        print('succes!') \n",
    "        break # this statement stops the loop"
   ]
  }
 ],
 "metadata": {
  "anaconda-cloud": {},
  "kernelspec": {
   "display_name": "Python [default]",
   "language": "python",
   "name": "python3"
  },
  "language_info": {
   "codemirror_mode": {
    "name": "ipython",
    "version": 3
   },
   "file_extension": ".py",
   "mimetype": "text/x-python",
   "name": "python",
   "nbconvert_exporter": "python",
   "pygments_lexer": "ipython3",
   "version": "3.5.2"
  }
 },
 "nbformat": 4,
 "nbformat_minor": 0
}
