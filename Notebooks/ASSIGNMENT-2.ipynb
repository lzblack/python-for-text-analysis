{
 "cells": [
  {
   "cell_type": "markdown",
   "metadata": {},
   "source": [
    "# Assignment: Writing functions & Reading and writing files\n",
    "\n",
    "## Due: Tuesday the 15th of November 2016 15:00 p.m.\n",
    "\n",
    "Please name your ipython notebook with the following naming convention: ASSIGNMENT_2_FIRSTNAME_LASTNAME.ipynb \n",
    "\n",
    "Please send your assignment to c.m.van.son@vu.nl"
   ]
  },
  {
   "cell_type": "markdown",
   "metadata": {},
   "source": [
    "### Exercise 1: Writing small functions\n",
    "\n",
    "Make sure that you give your functions clear names and that you document them!\n",
    "\n",
    "**Exercise (a):** Write a function to sum all the numbers in a list. "
   ]
  },
  {
   "cell_type": "code",
   "execution_count": null,
   "metadata": {
    "collapsed": true
   },
   "outputs": [],
   "source": [
    "# Write your function here"
   ]
  },
  {
   "cell_type": "markdown",
   "metadata": {},
   "source": [
    "**Exercise (b):** Write a function that takes a list and returns a new list with unique elements of the first list."
   ]
  },
  {
   "cell_type": "code",
   "execution_count": null,
   "metadata": {
    "collapsed": true
   },
   "outputs": [],
   "source": [
    "# Write your function here"
   ]
  },
  {
   "cell_type": "markdown",
   "metadata": {},
   "source": [
    "**Exercise (c):** Write a function that tells you whether a number is even or uneven."
   ]
  },
  {
   "cell_type": "code",
   "execution_count": null,
   "metadata": {
    "collapsed": false
   },
   "outputs": [],
   "source": [
    "# Write your function here\n",
    "# Hint: In Python, the modulus operator is a percent sign (%). Try printing 7 % 3"
   ]
  },
  {
   "cell_type": "markdown",
   "metadata": {},
   "source": [
    "**Exercise (d):** Write a function that accepts a string and calculates the number of upper case letters and lower case letters."
   ]
  },
  {
   "cell_type": "code",
   "execution_count": null,
   "metadata": {
    "collapsed": true
   },
   "outputs": [],
   "source": [
    "# Write your function here"
   ]
  },
  {
   "cell_type": "markdown",
   "metadata": {},
   "source": [
    "### Exercise 2: Write a function to introduce yourself\n",
    "\n",
    "Write a function that can be used for anyone to introduce themselves. It should take as input:\n",
    "1. the name of the person\n",
    "2. the age of the person\n",
    "3. the home town of the person\n",
    "4. the brothers of the person (a list of names)\n",
    "5. the sisters of the person (a list of names)\n",
    "\n",
    "For me, it should print the following lines:\n",
    "\n",
    "*Hello, my name is Chantal.  \n",
    "I am 26 years old.  \n",
    "I live in Uitgeest.  \n",
    "I have 1 brother. His name is Dennis.  \n",
    "I have 1 sister. Her name is Kelly.*  \n",
    "\n",
    "For a friend of mine, it should print:\n",
    "\n",
    "*Hello, my name is Susanne.  \n",
    "I am 25 years old.  \n",
    "I live in Heemskerk.  \n",
    "I have 3 brothers. Their names are Niels, Menno and Pim.  \n",
    "I have no sisters.*"
   ]
  },
  {
   "cell_type": "code",
   "execution_count": null,
   "metadata": {
    "collapsed": false
   },
   "outputs": [],
   "source": [
    "# Tip: Did you know that you can format a string as follows?\n",
    "name = \"Chantal\"\n",
    "print(\"Hello, my name is %s.\" %name)"
   ]
  },
  {
   "cell_type": "code",
   "execution_count": null,
   "metadata": {
    "collapsed": false
   },
   "outputs": [],
   "source": [
    "# Write your function here"
   ]
  },
  {
   "cell_type": "code",
   "execution_count": null,
   "metadata": {
    "collapsed": false
   },
   "outputs": [],
   "source": [
    "# Test your function here!\n",
    "introduce_yourself(\"Chantal\", \"26\", \"Uitgeest\", [\"Dennis\"], [\"Kelly\"])"
   ]
  },
  {
   "cell_type": "code",
   "execution_count": null,
   "metadata": {
    "collapsed": false
   },
   "outputs": [],
   "source": [
    "# Test your function here!\n",
    "introduce_yourself(\"Susanne\", \"25\", \"Heemskerk\", [\"Niels\", \"Menno\", \"Pim\"], [])"
   ]
  },
  {
   "cell_type": "markdown",
   "metadata": {},
   "source": [
    "### Exercise 3: Beersong - The Sequel\n",
    "\n",
    "Rewrite the code you made in Assignment 1. You have to make two changes:\n",
    "1. Make a function of it that takes as an argument the amount of bottles of beer to start with. Name the function `print_beersong`.\n",
    "2. Print the numbers as text instead of digits: \"ninety nine bottles\" instead of \"99\" (try to write a separate function for this!).\n",
    "3. If someone tries to begin from a higher number than 99, return a message that this is unfortunately not possible."
   ]
  },
  {
   "cell_type": "code",
   "execution_count": null,
   "metadata": {
    "collapsed": true
   },
   "outputs": [],
   "source": [
    "# Write your function here"
   ]
  },
  {
   "cell_type": "code",
   "execution_count": null,
   "metadata": {
    "collapsed": false
   },
   "outputs": [],
   "source": [
    "# Check your code by calling the function:\n",
    "print_beersong(50)"
   ]
  },
  {
   "cell_type": "markdown",
   "metadata": {},
   "source": [
    "### Exercise 4: Pronouns in Charlie & The Chocolate Factory\n",
    "\n",
    "In the Notebook of Topic 3, you have replaced the names of Charlie and Mr Wonka with the names of yourself and a friend of yours. However, if you or your friend is female, you are probably not too happy with the resulting personalized version of the story...\n",
    "\n",
    "Write a program that does not only replace the names, but also checks the gender of you and your friend and replaces all male pronouns (e.g. *he* and *him*) by their female equivalents (e.g. *she* and *her*) if necessary. Write the improved version of the personalized story to a new file.\n",
    "\n",
    "Hint: paragraph 1 in the story is about Charlie, and paragraph 2 is about Mr Wonka."
   ]
  },
  {
   "cell_type": "code",
   "execution_count": null,
   "metadata": {
    "collapsed": true
   },
   "outputs": [],
   "source": [
    "# Specify the names and genders\n",
    "your_name = \"\"\n",
    "friends_name = \"\"\n",
    "your_gender = \"\"\n",
    "friends_gender = \"\"\n",
    "\n",
    "# Read the file `charlie.txt` in the `Data/Charlie` folder and manipulate its content\n",
    "\n",
    "\n",
    "# Write the manipulated content to a new file `charlie_improved.txt` in the `Data/Charlie` folder"
   ]
  },
  {
   "cell_type": "markdown",
   "metadata": {},
   "source": [
    "### Exercise 5: Finding files and directories\n",
    "**Exercise (a):** Use the `glob` module to print the paths of all files and directories in the `Data` folder."
   ]
  },
  {
   "cell_type": "code",
   "execution_count": null,
   "metadata": {
    "collapsed": false
   },
   "outputs": [],
   "source": [
    "# Write your code here"
   ]
  },
  {
   "cell_type": "markdown",
   "metadata": {},
   "source": [
    "**Exercise (b):** Use the `glob` module to find and print the paths of all CSV files in the `Data` folder and its subdirectories."
   ]
  },
  {
   "cell_type": "code",
   "execution_count": null,
   "metadata": {
    "collapsed": false
   },
   "outputs": [],
   "source": [
    "# Write your code here"
   ]
  },
  {
   "cell_type": "markdown",
   "metadata": {},
   "source": [
    "**Exercise (c):** Use the `glob` module to find and print the paths of all files consisting of exactly two characters plus the extension `.TXT` in the `Data` folder and its subdirectories."
   ]
  },
  {
   "cell_type": "code",
   "execution_count": null,
   "metadata": {
    "collapsed": false
   },
   "outputs": [],
   "source": [
    "# Write your code here"
   ]
  },
  {
   "cell_type": "markdown",
   "metadata": {},
   "source": [
    "### Exercise 6: Creating a JSON file with baby names\n",
    "\n",
    "**Exercise (a):** The folder `../Data/baby_names/names_per_state` contains a list of files per state, specifying the frequencies of names given to children in that state in a given year. Create a single JSON file in the folder `../Data/baby_names` that specifies for each name its frequencies in the different years and states. See below for an example of how the JSON file should look like.\n",
    "\n",
    "To achieve this, you need to do the following things:\n",
    "1. create an empty dictionary\n",
    "2. iterate over all files in the folder `names_per_state`\n",
    "3. open each file and get the information per line (name, frequency, gender, state and year)\n",
    "4. check if the name is already in the dictionary; \n",
    "    - if not, add the name as key, and as value a list with 1 item: a dictionary containing the rest of the information; \n",
    "    - if so, add the dictionary to the list\n",
    "5. in the end, write the dictionary to a JSON file"
   ]
  },
  {
   "cell_type": "code",
   "execution_count": null,
   "metadata": {
    "collapsed": false
   },
   "outputs": [],
   "source": [
    "# The resulting JSON file should look like this (the first two entries are given as example):\n",
    "{\n",
    "    \"Aaban\": [\n",
    "        {\n",
    "            \"frequency\": 6,\n",
    "            \"gender\": \"M\",\n",
    "            \"state\": \"NY\",\n",
    "            \"year\": \"2013\"\n",
    "        },\n",
    "        {\n",
    "            \"frequency\": 6,\n",
    "            \"gender\": \"M\",\n",
    "            \"state\": \"NY\",\n",
    "            \"year\": \"2014\"\n",
    "        }\n",
    "    ],\n",
    "    \"Aadan\": [\n",
    "        {\n",
    "            \"frequency\": 7,\n",
    "            \"gender\": \"M\",\n",
    "            \"state\": \"CA\",\n",
    "            \"year\": \"2008\"\n",
    "        },\n",
    "        {\n",
    "            \"frequency\": 6,\n",
    "            \"gender\": \"M\",\n",
    "            \"state\": \"CA\",\n",
    "            \"year\": \"2009\"\n",
    "        },\n",
    "        {\n",
    "            \"frequency\": 5,\n",
    "            \"gender\": \"M\",\n",
    "            \"state\": \"CA\",\n",
    "            \"year\": \"2014\"\n",
    "        },\n",
    "        {\n",
    "            \"frequency\": 5,\n",
    "            \"gender\": \"M\",\n",
    "            \"state\": \"TX\",\n",
    "            \"year\": \"2008\"\n",
    "        }\n",
    "    ]\n",
    "}"
   ]
  },
  {
   "cell_type": "code",
   "execution_count": null,
   "metadata": {
    "collapsed": false
   },
   "outputs": [],
   "source": [
    "# Write your code here            "
   ]
  },
  {
   "cell_type": "markdown",
   "metadata": {},
   "source": [
    "**Exercise (b):** Read the JSON file back in and convert its content to a Python dictionary."
   ]
  },
  {
   "cell_type": "code",
   "execution_count": null,
   "metadata": {
    "collapsed": true
   },
   "outputs": [],
   "source": [
    "# Write your code here"
   ]
  },
  {
   "cell_type": "markdown",
   "metadata": {},
   "source": [
    "**Exercise (c):** Print all information from the dictionary about the name \"Aahan\"."
   ]
  },
  {
   "cell_type": "code",
   "execution_count": null,
   "metadata": {
    "collapsed": true
   },
   "outputs": [],
   "source": [
    "# Write your code here"
   ]
  },
  {
   "cell_type": "markdown",
   "metadata": {},
   "source": [
    "**Exercise (d)**: Print the frequency of the name \"Yuli\" in the state Texas (TX) in 2005."
   ]
  },
  {
   "cell_type": "code",
   "execution_count": null,
   "metadata": {
    "collapsed": true
   },
   "outputs": [],
   "source": [
    "# Write your code here"
   ]
  },
  {
   "cell_type": "markdown",
   "metadata": {},
   "source": [
    "**Exercise (e):** Calculate the total frequency of the name \"Julia\" in all states in 2014."
   ]
  },
  {
   "cell_type": "code",
   "execution_count": null,
   "metadata": {
    "collapsed": true
   },
   "outputs": [],
   "source": [
    "# Write your code here"
   ]
  },
  {
   "cell_type": "markdown",
   "metadata": {},
   "source": [
    "### Exercise 7: Topics in the 2016 Presidential Debate\n",
    "\n",
    "In this exercise, you will learn how to find out how Trump and Clinton are talking about certain topics in the 2016 Presidential Debate.\n",
    "\n",
    "#### Exercise (a): Get all transcripts about women\n",
    "Write a program that reads `debate.csv`, iterates over all rows and checks whether the transcript (the text) contains the mention \"women\". If it does, add it to a list called `Trump_about_women` or `Clinton_about_women`, depending on who the speaker is."
   ]
  },
  {
   "cell_type": "code",
   "execution_count": null,
   "metadata": {
    "collapsed": false
   },
   "outputs": [],
   "source": [
    "# Write your code here"
   ]
  },
  {
   "cell_type": "code",
   "execution_count": null,
   "metadata": {
    "collapsed": false
   },
   "outputs": [],
   "source": [
    "# Test your code here! If your code is correct, you should get a compliment :-)\n",
    "assert(len(Trump_about_women) == 8 and len(Clinton_about_women) == 21)\n",
    "print(\"Well done!\")"
   ]
  },
  {
   "cell_type": "markdown",
   "metadata": {},
   "source": [
    "Curious what they both have to say about women? Execute the following code:"
   ]
  },
  {
   "cell_type": "code",
   "execution_count": null,
   "metadata": {
    "collapsed": false
   },
   "outputs": [],
   "source": [
    "for transcript in Trump_about_women:\n",
    "    print(transcript)"
   ]
  },
  {
   "cell_type": "code",
   "execution_count": null,
   "metadata": {
    "collapsed": false
   },
   "outputs": [],
   "source": [
    "for transcript in Clinton_about_women:\n",
    "    print(transcript)"
   ]
  },
  {
   "cell_type": "markdown",
   "metadata": {},
   "source": [
    "#### Exercise (b): Write a function to get all sentences from Trump and Clinton about a list of topics\n",
    "Write a function called `get_sentences_about` that does the following things:\n",
    "1. Takes two arguments: (1) the rows representing all transcripts, (2) a list of topics (strings) (e.g. [\"women\", \"immigrants\"]).\n",
    "2. Iterates over all transcripts.\n",
    "3. Splits the text of each transcript into sentences (use the NLTK sentence splitter).\n",
    "4. Iterates over each sentence and checks whether any of the topics is mentioned in the sentence.\n",
    "5. Append Trump's sentences about the topics to a list called `Trump_about_X`, and do the same for Clinton.\n",
    "6. Return both lists."
   ]
  },
  {
   "cell_type": "code",
   "execution_count": null,
   "metadata": {
    "collapsed": true
   },
   "outputs": [],
   "source": [
    "# Write your code here"
   ]
  },
  {
   "cell_type": "markdown",
   "metadata": {},
   "source": [
    "Call the function you created above to get and print all sentences from Trump and Clinton about immigrants."
   ]
  },
  {
   "cell_type": "code",
   "execution_count": null,
   "metadata": {
    "collapsed": false
   },
   "outputs": [],
   "source": [
    "# Write your code here"
   ]
  },
  {
   "cell_type": "markdown",
   "metadata": {},
   "source": [
    "### Exercise 8: The 2016 Presidential Debate per date\n",
    "\n",
    "#### Exercise (a): Get all transcripts from Clinton and Trump per date\n",
    "Write a program that creates a dictionary with as keys the date, and as values the list of transcripts (the rows with all information) from that date. Name the dictionary `transcripts_per_date`."
   ]
  },
  {
   "cell_type": "code",
   "execution_count": null,
   "metadata": {
    "collapsed": false
   },
   "outputs": [],
   "source": [
    "# Write your code here"
   ]
  },
  {
   "cell_type": "code",
   "execution_count": null,
   "metadata": {
    "collapsed": false
   },
   "outputs": [],
   "source": [
    "# Test your code here! If your code is correct, you should get a compliment :-)\n",
    "print(len(transcripts_per_date[\"10/9/16\"]))\n",
    "assert(len(transcripts_per_date) == 4 and len(transcripts_per_date[\"10/9/16\"]) == 313)\n",
    "print(\"Well done!\")"
   ]
  },
  {
   "cell_type": "markdown",
   "metadata": {},
   "source": [
    "#### Exercise (b): Write the transcripts from Clinton and Trump per date to new CSV files \n",
    "\n",
    "Write a program to write the transcripts per date to separate CSV files in the `Debate/Transcripts_per_date` folder that we already create for you below. In the end, this folder should contain the files \"10-9-16.csv\", \"25-9-16.csv\", etc.\n",
    "\n",
    "Hints:\n",
    "- you will need to use the `os.path.join()` function to create your output files "
   ]
  },
  {
   "cell_type": "code",
   "execution_count": null,
   "metadata": {
    "collapsed": true
   },
   "outputs": [],
   "source": [
    "import os\n",
    "\n",
    "# Create output directory it if it does not exist yet\n",
    "outdir = \"../Data/Debate/Transcripts_per_date\"\n",
    "if not os.path.exists(outdir):\n",
    "    os.mkdir(outdir)\n",
    "\n",
    "# Write your code here"
   ]
  }
 ],
 "metadata": {
  "anaconda-cloud": {},
  "kernelspec": {
   "display_name": "Python [default]",
   "language": "python",
   "name": "python3"
  },
  "language_info": {
   "codemirror_mode": {
    "name": "ipython",
    "version": 3
   },
   "file_extension": ".py",
   "mimetype": "text/x-python",
   "name": "python",
   "nbconvert_exporter": "python",
   "pygments_lexer": "ipython3",
   "version": "3.5.2"
  }
 },
 "nbformat": 4,
 "nbformat_minor": 0
}
